{
 "cells": [
  {
   "cell_type": "code",
   "execution_count": 3,
   "metadata": {},
   "outputs": [],
   "source": [
    "def swg_game(n):\n",
    "    from random import randint\n",
    "    w=0 \n",
    "    c=randint(0,2)\n",
    "    if n.lower().startswith('s'):\n",
    "        u=0\n",
    "        if c==1:\n",
    "            w=1\n",
    "            print('You Win as computer chooses water')\n",
    "        elif c==2:\n",
    "            w=2\n",
    "            print('You lose as computer chooses gun')\n",
    "        else:\n",
    "            print('match draw as computer chooses snake')\n",
    "            \n",
    "    elif n.lower().startswith('w'):\n",
    "        u=1\n",
    "        if c==1:\n",
    "            print('match draw as computer chooses water')\n",
    "        elif c==2:\n",
    "            w=1\n",
    "            print('You Win as computer chooses gun')\n",
    "        else:\n",
    "            w=2\n",
    "            print('You lose as computer chooses snake')\n",
    "    elif n.lower().startswith('g'):\n",
    "        u=2\n",
    "        if c==1:\n",
    "            w=2\n",
    "            print('You lose as computer chooses water')\n",
    "        elif c==2:\n",
    "            print('match draw as computer chooses gun')\n",
    "        else:\n",
    "            w=1\n",
    "            print('You Win as computer chooses snake')\n",
    "    return(w)     "
   ]
  },
  {
   "cell_type": "code",
   "execution_count": 2,
   "metadata": {},
   "outputs": [
    {
     "name": "stdout",
     "output_type": "stream",
     "text": [
      "WELCOME TO THE SNAKE WATER & GUN GAME WITH A COMPUTER\n",
      "Get Ready to play\n",
      "'Snake' 'Water' or 'Gun'! Enter your choice : snake\n",
      "match draw as computer chooses snake\n",
      "'Snake' 'Water' or 'Gun'! Enter your choice : gun\n",
      "You Win as computer chooses snake\n",
      "'Snake' 'Water' or 'Gun'! Enter your choice : water\n",
      "You lose as computer chooses snake\n",
      "do you want to play again \"yes\" or \"no\" : yesss\n",
      "'Snake' 'Water' or 'Gun'! Enter your choice : snake\n",
      "match draw as computer chooses snake\n",
      "'Snake' 'Water' or 'Gun'! Enter your choice : snake\n",
      "match draw as computer chooses snake\n",
      "'Snake' 'Water' or 'Gun'! Enter your choice : snake\n",
      "match draw as computer chooses snake\n",
      "do you want to play again \"yes\" or \"no\" : gun\n",
      "'Snake' 'Water' or 'Gun'! Enter your choice : gun\n",
      "You lose as computer chooses water\n",
      "'Snake' 'Water' or 'Gun'! Enter your choice : snake\n",
      "You Win as computer chooses water\n",
      "'Snake' 'Water' or 'Gun'! Enter your choice : snake\n",
      "You Win as computer chooses water\n",
      "You win by 3/2\n",
      "do you want to play again \"yes\" or \"no\" : no\n"
     ]
    }
   ],
   "source": [
    "cw=0 \n",
    "uw=0 \n",
    "n=0\n",
    "print('WELCOME TO THE SNAKE WATER & GUN GAME WITH A COMPUTER')\n",
    "print('Get Ready to play')\n",
    "while n==0:\n",
    "    for i in range(1,4):\n",
    "        a=input(\"'Snake' 'Water' or 'Gun'! Enter your choice : \")\n",
    "        w=swg_game(a)\n",
    "        if w==1:\n",
    "            uw+=1\n",
    "        elif w==2:\n",
    "            cw+=1\n",
    "    if cw>uw:\n",
    "        print(\"You lose by {}/{}\".format(uw,cw))\n",
    "    elif cw<uw:\n",
    "        print(\"You win by {}/{}\".format(uw,cw))\n",
    "    inp=input('do you want to play again \"yes\" or \"no\" : ')\n",
    "    if inp.lower().startswith('n'):\n",
    "        n=1"
   ]
  },
  {
   "cell_type": "code",
   "execution_count": 50,
   "metadata": {},
   "outputs": [
    {
     "name": "stdout",
     "output_type": "stream",
     "text": [
      "enter last name : sharma\n",
      "not found\n"
     ]
    }
   ],
   "source": [
    "lst=['annu negi','vikash singh','adarsh singh','sham kumar','sorav kumar']\n",
    "last=input('enter last name : ')\n",
    "v=0\n",
    "for i in lst:\n",
    "    l=i.split()[-1]\n",
    "    if l==last: \n",
    "        print(i)\n",
    "        v=1\n",
    "if v==0:\n",
    "    print('not found')"
   ]
  },
  {
   "cell_type": "code",
   "execution_count": null,
   "metadata": {},
   "outputs": [],
   "source": []
  }
 ],
 "metadata": {
  "kernelspec": {
   "display_name": "Python 3",
   "language": "python",
   "name": "python3"
  },
  "language_info": {
   "codemirror_mode": {
    "name": "ipython",
    "version": 3
   },
   "file_extension": ".py",
   "mimetype": "text/x-python",
   "name": "python",
   "nbconvert_exporter": "python",
   "pygments_lexer": "ipython3",
   "version": "3.8.5"
  }
 },
 "nbformat": 4,
 "nbformat_minor": 4
}
