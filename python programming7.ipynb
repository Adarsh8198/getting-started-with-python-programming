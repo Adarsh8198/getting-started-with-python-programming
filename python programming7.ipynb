{
 "cells": [
  {
   "cell_type": "code",
   "execution_count": 2,
   "metadata": {},
   "outputs": [
    {
     "name": "stdout",
     "output_type": "stream",
     "text": [
      "Enter the name of the student : adarsh \n",
      "Enter the marks of adarsh 344\n",
      "Enter the name of the student : ashu\n",
      "Enter the marks of ashu235\n",
      "Enter the name of the student : aman\n",
      "Enter the marks of aman456\n",
      "{'adarsh ': 344, 'ashu': 235, 'aman': 456}\n"
     ]
    }
   ],
   "source": [
    "s = 3\n",
    "\n",
    "cls = {}\n",
    "for i in range(s):\n",
    "    stud = input('Enter the name of the student : ')\n",
    "    marks = int(input('Enter the marks of {}'.format(stud)))\n",
    "    cls[stud] = marks\n",
    "\n",
    "print(cls)"
   ]
  },
  {
   "cell_type": "code",
   "execution_count": 10,
   "metadata": {},
   "outputs": [
    {
     "name": "stdout",
     "output_type": "stream",
     "text": [
      "Enter the number of the students : 1\n",
      "Enter the name of the student : adarsh\n",
      "Enter the marks of adarsh in english: 23\n",
      "Enter the marks of adarsh in maths: 57\n",
      "Enter the marks of adarsh in science: 85\n",
      "{'adarsh': {'english': 23, 'maths': 57, 'science': 85}}\n"
     ]
    }
   ],
   "source": [
    "s =int(input('Enter the number of the students : '))\n",
    "\n",
    "cl = {}\n",
    "for i in range(s):\n",
    "    stud = input('Enter the name of the student : ')\n",
    "    eng = int(input('Enter the marks of {} in english: '.format(stud)))\n",
    "    mat = int(input('Enter the marks of {} in maths: '.format(stud)))\n",
    "    sci = int(input('Enter the marks of {} in science: '.format(stud)))\n",
    "    cl[stud]={}\n",
    "    cl[stud]['english'] = eng\n",
    "    cl[stud]['maths'] = mat\n",
    "    cl[stud]['science'] = sci\n",
    "\n",
    "print(cl)"
   ]
  },
  {
   "cell_type": "code",
   "execution_count": 11,
   "metadata": {},
   "outputs": [
    {
     "name": "stdout",
     "output_type": "stream",
     "text": [
      "enter the no. of entries : 5\n",
      "enter the name: adarsh\n",
      " adarsh can enter as the student of the collage and also paid the entry fees\n",
      "enter the name: ankit\n",
      "alert! ankit dont have ID.. No one can enter without id \n",
      "enter the name: anumeha\n",
      " anumeha can enter as the student of the collage\n",
      "enter the name: shikha\n",
      "alert! shikha can enter but not a part of collage\n",
      "enter the name: rahul\n",
      "rahul not found\n"
     ]
    }
   ],
   "source": [
    "stu={'adarsh':{'fee':'yes','collage':'yes','id':'yes'},'anumeha':{'fee':'no','collage':'yes','id':'yes'},'ankit':{'fee':'yes','collage':'yes','id':'no'},'shikha':{'fee':'yes','collage':'no','id':'yes'}}\n",
    "t=int(input('enter the no. of entries : '))\n",
    "for i in range(0,t):\n",
    "    n=input('enter the name: ')\n",
    "    if n in stu:\n",
    "        if stu[n]['id']=='yes':\n",
    "            if stu[n]['fee']=='no' and stu[n]['collage']=='yes' : \n",
    "                print(' {} can enter as the student of the collage'.format(n))\n",
    "            elif stu[n]['fee']=='yes' and stu[n]['collage']=='no' :\n",
    "                print('alert! {} can enter but not a part of collage'.format(n))\n",
    "            else:\n",
    "                print(' {} can enter as the student of the collage and also paid the entry fees'.format(n))\n",
    "        else:\n",
    "            print('alert! {} dont have ID.. No one can enter without id '.format(n))\n",
    "    else:\n",
    "        print('{} not found'.format(n))\n",
    "        "
   ]
  },
  {
   "cell_type": "code",
   "execution_count": null,
   "metadata": {},
   "outputs": [],
   "source": [
    "var= declration\n",
    "while condition:\n",
    "    statement\n",
    "    var increment/decrement"
   ]
  },
  {
   "cell_type": "code",
   "execution_count": 15,
   "metadata": {},
   "outputs": [
    {
     "name": "stdout",
     "output_type": "stream",
     "text": [
      "55\n"
     ]
    }
   ],
   "source": [
    "#using for\n",
    "n=10\n",
    "s=0\n",
    "for i in range(1,n+1):\n",
    "    s+=i\n",
    "print(s)"
   ]
  },
  {
   "cell_type": "code",
   "execution_count": 16,
   "metadata": {},
   "outputs": [
    {
     "name": "stdout",
     "output_type": "stream",
     "text": [
      "55\n"
     ]
    }
   ],
   "source": [
    "#using while\n",
    "n=10\n",
    "s=0\n",
    "i=1\n",
    "while i<=n:\n",
    "    s+=i\n",
    "    i+=1\n",
    "print(s)"
   ]
  },
  {
   "cell_type": "code",
   "execution_count": 20,
   "metadata": {},
   "outputs": [
    {
     "name": "stdout",
     "output_type": "stream",
     "text": [
      "1 is odd\n",
      "2 is even\n",
      "3 is odd\n",
      "4 is even\n",
      "5 is odd\n",
      "6 is even\n",
      "7 is odd\n",
      "8 is even\n",
      "9 is odd\n",
      "over\n"
     ]
    }
   ],
   "source": [
    "for i in range(1,10):\n",
    "    if i%2==0:\n",
    "        print(i,'is even')\n",
    "    else:\n",
    "        print(i,'is odd')\n",
    "print('over')"
   ]
  },
  {
   "cell_type": "code",
   "execution_count": 21,
   "metadata": {},
   "outputs": [
    {
     "name": "stdout",
     "output_type": "stream",
     "text": [
      "1 is odd\n",
      "2 is even\n",
      "3 is odd\n",
      "4 is even\n",
      "5 is odd\n",
      "6 is even\n",
      "7 is odd\n",
      "8 is even\n",
      "9 is odd\n",
      "10 is even\n",
      "over\n"
     ]
    }
   ],
   "source": [
    "#odd even using while\n",
    "i=1\n",
    "while i<=10:\n",
    "    if i%2==0:\n",
    "        print(i,'is even')\n",
    "    else:\n",
    "        print(i,'is odd')\n",
    "    i+=1\n",
    "print('over')"
   ]
  },
  {
   "cell_type": "code",
   "execution_count": 4,
   "metadata": {},
   "outputs": [
    {
     "name": "stdout",
     "output_type": "stream",
     "text": [
      "Enter a number : 5\n",
      "the factorial of 5 is 120\n"
     ]
    }
   ],
   "source": [
    "f=1\n",
    "s =int(input('Enter a number : '))\n",
    "for i in range(1,s+1):\n",
    "    f *=i\n",
    "print('the factorial of {} is {}'.format(s,f))"
   ]
  },
  {
   "cell_type": "code",
   "execution_count": 7,
   "metadata": {},
   "outputs": [
    {
     "name": "stdout",
     "output_type": "stream",
     "text": [
      "Enter a number : 5\n",
      "the factorial of 5 is 120\n"
     ]
    }
   ],
   "source": [
    "i=1\n",
    "f=1\n",
    "s =int(input('Enter a number : '))\n",
    "while i<=s:\n",
    "    f *=i\n",
    "    i+=1\n",
    "print('the factorial of {} is {}'.format(s,f))\n"
   ]
  },
  {
   "cell_type": "code",
   "execution_count": 6,
   "metadata": {},
   "outputs": [
    {
     "name": "stdout",
     "output_type": "stream",
     "text": [
      "MENU\n",
      "{'burger': 80, 'momos': 50, 'spring roll': 50, 'samosa': 15, 'cold drink': 20, 'egg roll': 60}\n",
      "Enter your 1 order : burger\n",
      "Enter the quantity : 2\n",
      "do you want to order more! enter 'yes' or 'no' :momos\n",
      "Enter your 2 order : momos\n",
      "Enter the quantity : 3\n",
      "do you want to order more! enter 'yes' or 'no' :yes\n",
      "Enter your 3 order : sandwich\n",
      "sorry this item is not available\n",
      "do you want to order more! enter 'yes' or 'no' :no\n",
      "your total bill :  310\n"
     ]
    }
   ],
   "source": [
    "menu={'burger': 80,'momos':50,'spring roll':50,'samosa':15,'cold drink':20,'egg roll':60}\n",
    "print('MENU')\n",
    "print(menu)\n",
    "bill=0\n",
    "i=0\n",
    "while True:\n",
    "    item=input('Enter your {} order : '.format(i+1))\n",
    "    if item in menu:\n",
    "        q=int(input('Enter the quantity : '.format(i)))\n",
    "        bill+=(menu[item]*q)\n",
    "    else:\n",
    "        print('sorry this item is not available')\n",
    "        i= i-1\n",
    "    i+=1\n",
    "    a=input(\"do you want to order more! enter 'yes' or 'no' :\")\n",
    "    if a.lower()=='no':\n",
    "        break\n",
    "print('your total bill : ',bill)"
   ]
  },
  {
   "cell_type": "code",
   "execution_count": null,
   "metadata": {},
   "outputs": [],
   "source": []
  }
 ],
 "metadata": {
  "kernelspec": {
   "display_name": "Python 3",
   "language": "python",
   "name": "python3"
  },
  "language_info": {
   "codemirror_mode": {
    "name": "ipython",
    "version": 3
   },
   "file_extension": ".py",
   "mimetype": "text/x-python",
   "name": "python",
   "nbconvert_exporter": "python",
   "pygments_lexer": "ipython3",
   "version": "3.8.5"
  }
 },
 "nbformat": 4,
 "nbformat_minor": 4
}
