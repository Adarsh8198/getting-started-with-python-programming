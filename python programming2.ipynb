{
 "cells": [
  {
   "cell_type": "code",
   "execution_count": 11,
   "metadata": {},
   "outputs": [
    {
     "name": "stdout",
     "output_type": "stream",
     "text": [
      "36000.0\n",
      "164000.0\n"
     ]
    }
   ],
   "source": [
    "#find the tax and then the income after removing tax from the given income if tax rate is of 18%\n",
    "income=200000\n",
    "tax= 18/100\n",
    "\n",
    "it= income*tax\n",
    "nincome=income-it\n",
    "print(it)\n",
    "print(nincome)"
   ]
  },
  {
   "cell_type": "code",
   "execution_count": 12,
   "metadata": {},
   "outputs": [
    {
     "data": {
      "text/plain": [
       "'on'"
      ]
     },
     "execution_count": 12,
     "metadata": {},
     "output_type": "execute_result"
    }
   ],
   "source": [
    "#print 'on' from the following\n",
    "a= 'python'\n",
    "a[4:6:1]"
   ]
  },
  {
   "cell_type": "code",
   "execution_count": 13,
   "metadata": {},
   "outputs": [
    {
     "name": "stdout",
     "output_type": "stream",
     "text": [
      "unkr\n"
     ]
    }
   ],
   "source": [
    "#print the output 'unkr' from 'sudhanshukumar645345454@gmail.com'\n",
    "mail= 'sudhanshukumar645345454@gmail.com'\n",
    "print(mail[1:14:4])"
   ]
  },
  {
   "cell_type": "code",
   "execution_count": 14,
   "metadata": {},
   "outputs": [
    {
     "name": "stdout",
     "output_type": "stream",
     "text": [
      "enter the 1st side : 13\n",
      "enter the 2nd side : 13\n",
      "it is a squar and the area is 169\n"
     ]
    }
   ],
   "source": [
    "#find out the Area and whether it is rectangle or squar\n",
    "var1= int(input(\"enter the 1st side : \"))\n",
    "var2= int(input(\"enter the 2nd side : \"))\n",
    "area=var1*var2\n",
    "if var1!=var2:\n",
    "    print(\"it is a rectangle and the area is {}\".format(area))\n",
    "else :\n",
    "       print(\"it is a squar and the area is {}\".format(area))"
   ]
  },
  {
   "cell_type": "code",
   "execution_count": 15,
   "metadata": {},
   "outputs": [
    {
     "name": "stdout",
     "output_type": "stream",
     "text": [
      "enter the no.3\n",
      "its odd\n"
     ]
    }
   ],
   "source": [
    "#find out whether the no. is odd or even\n",
    "var= int(input(\"enter the no.\"))\n",
    "if var%2 != 0:\n",
    "    print(\"its odd\")\n",
    "else:\n",
    "    print(\"its even\")"
   ]
  },
  {
   "cell_type": "code",
   "execution_count": 7,
   "metadata": {},
   "outputs": [
    {
     "name": "stdout",
     "output_type": "stream",
     "text": [
      "enter the no.-2\n",
      "its -ive\n"
     ]
    }
   ],
   "source": [
    "#find out whether the no. is positive or negative\n",
    "var= int(input(\"enter the no.\"))\n",
    "if var > 0:\n",
    "    print(\"its +ive\")\n",
    "elif var==0:\n",
    "    print(\"it is equal to 0\") \n",
    "else:\n",
    "    print(\"its -ive\")"
   ]
  },
  {
   "cell_type": "code",
   "execution_count": 16,
   "metadata": {},
   "outputs": [
    {
     "name": "stdout",
     "output_type": "stream",
     "text": [
      "enter your budget for hillstation : 23\n",
      "oops!  budget too low \n"
     ]
    }
   ],
   "source": [
    "#give the suggetion of the trip according to their budget using if else statements\n",
    "b= int(input(\"enter your budget for hillstation : \"))\n",
    "if b <= 3000 and b>2000:\n",
    "    print(\"you can plan your trip for nanital\")\n",
    "elif b<=9000 and b>6000:\n",
    "    print(\"you can plan your trip for shimla\")\n",
    "elif b<=6000 and b>3000 :\n",
    "    print(\"you can plan your trip for manaali \")\n",
    "elif b>9000:\n",
    "    print(\"you can plan your trip for darjeeling\")\n",
    "else :\n",
    "    print(\"oops!  budget too low \")"
   ]
  },
  {
   "cell_type": "code",
   "execution_count": 26,
   "metadata": {},
   "outputs": [
    {
     "name": "stdout",
     "output_type": "stream",
     "text": [
      "enter the first no. :12\n",
      "enter the second no. :12\n",
      "enter the third no. :12\n",
      "all the entered numbers are equal\n"
     ]
    }
   ],
   "source": [
    "#largest no. using if else\n",
    "a= int(input(\"enter the first no. :\"))\n",
    "b= int(input(\"enter the second no. :\"))\n",
    "c= int(input(\"enter the third no. :\"))\n",
    "\n",
    "if a>b and a>c:\n",
    "    print('a as {} is the biggest no.'.format(a))\n",
    "elif b>a and b>c:\n",
    "    print('b as {} is the biggest no.'.format(b))\n",
    "elif b>a and b==c:\n",
    "    print('b and c as {} and {} are the biggest no.'.format(b,c))\n",
    "elif b==a and b>c:\n",
    "    print('a and b as {} and {} are the biggest no.'.format(a,b))\n",
    "elif a>b and a==c:\n",
    "    print('a and c as {} and {} are the biggest no.'.format(a,c))\n",
    "elif b==a and b==c:\n",
    "    print(\"all the entered numbers are equal\")\n",
    "else:\n",
    "    print('c as {} is the biggest no.'.format(c))"
   ]
  },
  {
   "cell_type": "code",
   "execution_count": null,
   "metadata": {},
   "outputs": [],
   "source": []
  }
 ],
 "metadata": {
  "kernelspec": {
   "display_name": "Python 3",
   "language": "python",
   "name": "python3"
  },
  "language_info": {
   "codemirror_mode": {
    "name": "ipython",
    "version": 3
   },
   "file_extension": ".py",
   "mimetype": "text/x-python",
   "name": "python",
   "nbconvert_exporter": "python",
   "pygments_lexer": "ipython3",
   "version": "3.8.5"
  }
 },
 "nbformat": 4,
 "nbformat_minor": 4
}
