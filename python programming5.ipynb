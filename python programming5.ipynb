{
 "cells": [
  {
   "cell_type": "code",
   "execution_count": 22,
   "metadata": {},
   "outputs": [
    {
     "name": "stdout",
     "output_type": "stream",
     "text": [
      "* * * \n",
      "* \n",
      "* * * \n",
      "* \n",
      "* * * \n"
     ]
    }
   ],
   "source": [
    "for i in range(0,5):\n",
    "    if i%2==0 :\n",
    "        for j in range(0,3):\n",
    "            print('*',end=' ')\n",
    "    else:\n",
    "        for j in range(0,1):\n",
    "            print('*',end=' ')\n",
    "    print()"
   ]
  },
  {
   "cell_type": "code",
   "execution_count": 24,
   "metadata": {},
   "outputs": [
    {
     "name": "stdout",
     "output_type": "stream",
     "text": [
      "* * * \n",
      "* \n",
      "* * * \n",
      "* \n",
      "* \n"
     ]
    }
   ],
   "source": [
    "for i in range(0,5):\n",
    "    if i==0 or i==2 :\n",
    "        for j in range(0,3):\n",
    "            print('*',end=' ')\n",
    "    else:\n",
    "        for j in range(0,1):\n",
    "            print('*',end=' ')\n",
    "    print()"
   ]
  },
  {
   "cell_type": "code",
   "execution_count": 33,
   "metadata": {},
   "outputs": [
    {
     "name": "stdout",
     "output_type": "stream",
     "text": [
      "* * * * \n",
      "* \n",
      "*   * * \n",
      "*     * \n",
      "* * * * \n"
     ]
    }
   ],
   "source": [
    "for i in range(0,5):\n",
    "    if i%2==0 and i!=2 :\n",
    "        for j in range(0,4):\n",
    "            print('*',end=' ')\n",
    "    elif i==3:\n",
    "        for j in range(0,1):\n",
    "            print('*',end=' ')\n",
    "        for j in range(0,2):\n",
    "            print(' ',end=' ')\n",
    "        for j in range(0,1):\n",
    "            print('*',end=' ')\n",
    "    elif i==2:\n",
    "        for j in range(0,1):\n",
    "            print('*',end=' ')\n",
    "        for j in range(0,1):\n",
    "            print(' ',end=' ')\n",
    "        for j in range(0,2):\n",
    "            print('*',end=' ')\n",
    "    else:\n",
    "        for j in range(0,1):\n",
    "            print('*',end=' ')\n",
    "    print()"
   ]
  },
  {
   "cell_type": "code",
   "execution_count": 38,
   "metadata": {},
   "outputs": [
    {
     "name": "stdout",
     "output_type": "stream",
     "text": [
      "*     * \n",
      "*     * \n",
      "* * * * \n",
      "*     * \n",
      "*     * \n"
     ]
    }
   ],
   "source": [
    "for i in range(0,5):\n",
    "    if i==2:\n",
    "        for j in range(0,4):\n",
    "            print('*',end=' ')\n",
    "    else:\n",
    "        for j in range(0,1):\n",
    "            print('*',end=' ')\n",
    "        for j in range(0,2):\n",
    "            print(' ',end=' ')\n",
    "        for j in range(0,1):\n",
    "            print('*',end=' ')\n",
    "    print()"
   ]
  },
  {
   "cell_type": "code",
   "execution_count": 45,
   "metadata": {},
   "outputs": [
    {
     "name": "stdout",
     "output_type": "stream",
     "text": [
      "* * * * \n",
      "   * \n",
      "   * \n",
      "   * \n",
      "* * * * \n"
     ]
    }
   ],
   "source": [
    "for i in range(0,5):\n",
    "    if i==0 or i==4:\n",
    "        for j in range(0,4):\n",
    "            print('*',end=' ')\n",
    "    else:\n",
    "        for j in range(0,1):\n",
    "            print('  ',end=' ')\n",
    "        for j in range(0,1):\n",
    "            print('*',end=' ')\n",
    "    print()"
   ]
  },
  {
   "cell_type": "code",
   "execution_count": 56,
   "metadata": {},
   "outputs": [
    {
     "name": "stdout",
     "output_type": "stream",
     "text": [
      "* * * * \n",
      "    * \n",
      "    * \n",
      "*   * \n",
      "* * * \n"
     ]
    }
   ],
   "source": [
    "for i in range(0,5):\n",
    "    if i==0 :\n",
    "        for j in range(0,4):\n",
    "            print('*',end=' ')\n",
    "    elif i==3:\n",
    "        for j in range(0,1):\n",
    "            print('*',end=' ')\n",
    "        for j in range(0,1):\n",
    "            print(' ',end=' ')\n",
    "        for j in range(0,1):\n",
    "            print('*',end=' ') \n",
    "    elif i==4:\n",
    "        for j in range(0,3):\n",
    "            print('*',end=' ')\n",
    "    else:\n",
    "        for j in range(0,2):\n",
    "            print(' ',end=' ')\n",
    "        for j in range(0,1):\n",
    "            print('*',end=' ')\n",
    "    print()"
   ]
  },
  {
   "cell_type": "code",
   "execution_count": 61,
   "metadata": {},
   "outputs": [
    {
     "name": "stdout",
     "output_type": "stream",
     "text": [
      "*    *\n",
      "*  *\n",
      "**\n",
      "*  *\n",
      "*    *\n"
     ]
    }
   ],
   "source": [
    "for i in range(0,5):\n",
    "    for j in range(0,1):\n",
    "        print('*',end='')\n",
    "    if i<2:\n",
    "        for j in range(i,2):\n",
    "            print('  ',end='')\n",
    "    else:\n",
    "        for j in range(2,i):\n",
    "            print('  ',end='')\n",
    "    for j in range(0,1):\n",
    "        print('*',end='')\n",
    "    print()"
   ]
  },
  {
   "cell_type": "code",
   "execution_count": 64,
   "metadata": {},
   "outputs": [
    {
     "name": "stdout",
     "output_type": "stream",
     "text": [
      "* \n",
      "* \n",
      "* \n",
      "* \n",
      "* * * * \n"
     ]
    }
   ],
   "source": [
    "for i in range(0,5):\n",
    "    for j in range(0,1):\n",
    "        print('*',end=' ')\n",
    "    if i==4:\n",
    "        for j in range(0,3):\n",
    "            print('*',end=' ')\n",
    "    print()"
   ]
  },
  {
   "cell_type": "code",
   "execution_count": 6,
   "metadata": {},
   "outputs": [
    {
     "name": "stdout",
     "output_type": "stream",
     "text": [
      "*       * \n",
      "* *   * * \n",
      "*   *   * \n",
      "*       * \n",
      "*       * \n"
     ]
    }
   ],
   "source": [
    "for i in range(0,5):\n",
    "    for j in range(0,1):\n",
    "            print('*',end=' ')\n",
    "    if i<=2:\n",
    "        if i==2:\n",
    "            for j in range(0,1):\n",
    "                print(' ',end=' ')\n",
    "            for j in range(0,1):\n",
    "                print('*',end=' ')\n",
    "            for j in range(0,1):\n",
    "                print(' ',end=' ')\n",
    "        else:\n",
    "            for j in range(0,i):\n",
    "                print('*',end=' ')\n",
    "            for j in range(i,2):\n",
    "                print(' ',end=' ')\n",
    "            for j in range(i,1):\n",
    "                print(' ',end=' ')\n",
    "            for j in range(0,i):\n",
    "                print('*',end=' ')\n",
    "    else:\n",
    "        for j in range(0,3):\n",
    "            print(' ',end=' ')\n",
    "    for j in range(0,1):\n",
    "        print('*',end=' ')\n",
    "    print()"
   ]
  },
  {
   "cell_type": "code",
   "execution_count": 13,
   "metadata": {},
   "outputs": [
    {
     "name": "stdout",
     "output_type": "stream",
     "text": [
      "*       * \n",
      "* *     * \n",
      "*   *   * \n",
      "*     * * \n",
      "*       * \n"
     ]
    }
   ],
   "source": [
    "for i in range(0,5):\n",
    "    if i==0 or i==4:\n",
    "        for j in range(0,1):\n",
    "            print('*',end=' ')\n",
    "        for j in range(0,3):\n",
    "            print(' ',end=' ')\n",
    "        for j in range(0,1):\n",
    "            print('*',end=' ')\n",
    "    else:\n",
    "        for j in range(0,1):\n",
    "            print('*',end=' ')\n",
    "        for j in range(1,i):\n",
    "            print(' ',end=' ')\n",
    "        for j in range(0,1):\n",
    "            print('*',end=' ')\n",
    "        for j in range(i,3):\n",
    "            print(' ',end=' ')\n",
    "        for j in range(0,1):\n",
    "            print('*',end=' ')\n",
    "    print()"
   ]
  },
  {
   "cell_type": "code",
   "execution_count": 14,
   "metadata": {},
   "outputs": [
    {
     "name": "stdout",
     "output_type": "stream",
     "text": [
      "* * * * \n",
      "*     * \n",
      "*     * \n",
      "*     * \n",
      "* * * * \n"
     ]
    }
   ],
   "source": [
    "for i in range(0,5):\n",
    "    if i==0 or i==4:\n",
    "        for j in range(0,4):\n",
    "            print('*',end=' ')\n",
    "    else:\n",
    "        for j in range(0,1):\n",
    "            print('*',end=' ')\n",
    "        for j in range(0,2):\n",
    "            print(' ',end=' ')\n",
    "        for j in range(0,1):\n",
    "            print('*',end=' ')\n",
    "    print()"
   ]
  },
  {
   "cell_type": "code",
   "execution_count": 17,
   "metadata": {},
   "outputs": [
    {
     "name": "stdout",
     "output_type": "stream",
     "text": [
      "* * * * \n",
      "*     * \n",
      "* * * * \n",
      "* \n",
      "* \n"
     ]
    }
   ],
   "source": [
    "for i in range(0,5):\n",
    "    if i==2 or i==0:\n",
    "        for j in range(0,4):\n",
    "            print('*',end=' ')\n",
    "    elif i==3 or i==4:\n",
    "        for j in range(0,1):\n",
    "            print('*',end=' ')\n",
    "    else:\n",
    "        for j in range(0,1):\n",
    "            print('*',end=' ')\n",
    "        for j in range(0,2):\n",
    "            print(' ',end=' ')\n",
    "        for j in range(0,1):\n",
    "            print('*',end=' ')\n",
    "    print()"
   ]
  },
  {
   "cell_type": "code",
   "execution_count": 21,
   "metadata": {},
   "outputs": [
    {
     "name": "stdout",
     "output_type": "stream",
     "text": [
      "* * * * \n",
      "*     * \n",
      "*   * * \n",
      "*     * \n",
      "* * * * * \n"
     ]
    }
   ],
   "source": [
    "for i in range(0,5):\n",
    "    if i==0 :\n",
    "        for j in range(0,4):\n",
    "            print('*',end=' ')\n",
    "    elif i==4:\n",
    "        for j in range(0,5):\n",
    "            print('*',end=' ')\n",
    "    elif i==2:\n",
    "        for j in range(0,1):\n",
    "            print('*',end=' ')\n",
    "        for j in range(0,1):\n",
    "            print(' ',end=' ')\n",
    "        for j in range(0,2):\n",
    "            print('*',end=' ')\n",
    "    else:\n",
    "        for j in range(0,1):\n",
    "            print('*',end=' ')\n",
    "        for j in range(0,2):\n",
    "            print(' ',end=' ')\n",
    "        for j in range(0,1):\n",
    "            print('*',end=' ')\n",
    "    print()"
   ]
  },
  {
   "cell_type": "code",
   "execution_count": 27,
   "metadata": {},
   "outputs": [
    {
     "name": "stdout",
     "output_type": "stream",
     "text": [
      "* * * * \n",
      "*     * \n",
      "* * * * \n",
      "* * \n",
      "*   * \n",
      "*     * \n"
     ]
    }
   ],
   "source": [
    "for i in range(0,6):\n",
    "    if i==2 or i==0:\n",
    "        for j in range(0,4):\n",
    "            print('*',end=' ')\n",
    "    elif i==3 or i==4:\n",
    "        for j in range(0,1):\n",
    "            print('*',end=' ')\n",
    "        for j in range(3,i):\n",
    "            print(' ',end=' ')\n",
    "        for j in range(0,1):\n",
    "            print('*',end=' ')\n",
    "    else:\n",
    "        for j in range(0,1):\n",
    "            print('*',end=' ')\n",
    "        for j in range(0,2):\n",
    "            print(' ',end=' ')\n",
    "        for j in range(0,1):\n",
    "            print('*',end=' ')\n",
    "    print()"
   ]
  },
  {
   "cell_type": "code",
   "execution_count": 31,
   "metadata": {},
   "outputs": [
    {
     "name": "stdout",
     "output_type": "stream",
     "text": [
      "* * * * \n",
      "* \n",
      "* * * * \n",
      "      * \n",
      "* * * * \n"
     ]
    }
   ],
   "source": [
    "for i in range(0,5):\n",
    "    if i%2==0 :\n",
    "        for j in range(0,4):\n",
    "            print('*',end=' ')\n",
    "    else:\n",
    "        if i<2:\n",
    "            for j in range(0,1):\n",
    "                print('*',end=' ')\n",
    "        else:\n",
    "            for j in range(0,3):\n",
    "                print(' ',end=' ')\n",
    "            for j in range(0,1):\n",
    "                print('*',end=' ')\n",
    "    print()"
   ]
  },
  {
   "cell_type": "code",
   "execution_count": 13,
   "metadata": {},
   "outputs": [
    {
     "name": "stdout",
     "output_type": "stream",
     "text": [
      "* * * * \n",
      "   * \n",
      "   * \n",
      "   * \n",
      "   * \n"
     ]
    }
   ],
   "source": [
    "for i in range(0,5):\n",
    "    if i==0 :\n",
    "        for j in range(0,4):\n",
    "            print('*',end=' ')\n",
    "    else:\n",
    "        for j in range(0,1):\n",
    "            print('  ',end=' ')\n",
    "        for j in range(0,1):\n",
    "            print('*',end=' ')\n",
    "    print()"
   ]
  },
  {
   "cell_type": "code",
   "execution_count": 33,
   "metadata": {},
   "outputs": [
    {
     "name": "stdout",
     "output_type": "stream",
     "text": [
      "*     * \n",
      "*     * \n",
      "*     * \n",
      "*     * \n",
      "* * * * \n"
     ]
    }
   ],
   "source": [
    "for i in range(0,5):\n",
    "    if i==4:\n",
    "        for j in range(0,4):\n",
    "            print('*',end=' ')\n",
    "    else:\n",
    "        for j in range(0,1):\n",
    "            print('*',end=' ')\n",
    "        for j in range(0,2):\n",
    "            print(' ',end=' ')\n",
    "        for j in range(0,1):\n",
    "            print('*',end=' ')\n",
    "    print()"
   ]
  },
  {
   "cell_type": "code",
   "execution_count": 51,
   "metadata": {},
   "outputs": [
    {
     "name": "stdout",
     "output_type": "stream",
     "text": [
      "*       *\n",
      " *     *\n",
      "  *   *\n",
      "   * *\n",
      "    *\n"
     ]
    }
   ],
   "source": [
    "for i in range(0,5):\n",
    "    for j in range(0,i):\n",
    "        print(' ',end='')\n",
    "    for j in range(0,1):\n",
    "        print('*',end='')\n",
    "    for j in range(i,4):\n",
    "        print(' ',end='')\n",
    "    for j in range(i,3):\n",
    "        print(' ',end='')\n",
    "    if i!=4:\n",
    "        for j in range(0,1):\n",
    "            print('*',end='')\n",
    "    print()"
   ]
  },
  {
   "cell_type": "code",
   "execution_count": 54,
   "metadata": {},
   "outputs": [
    {
     "name": "stdout",
     "output_type": "stream",
     "text": [
      "*       **       *\n",
      " *     *  *     *\n",
      "  *   *    *   *\n",
      "   * *      * *\n",
      "    *        *\n"
     ]
    }
   ],
   "source": [
    "for i in range(0,5):\n",
    "    for j in range(0,i):\n",
    "        print(' ',end='')\n",
    "    for j in range(0,1):\n",
    "        print('*',end='')\n",
    "    for j in range(i,4):\n",
    "        print(' ',end='')\n",
    "    for j in range(i,3):\n",
    "        print(' ',end='')\n",
    "    if i!=4:\n",
    "        for j in range(0,1):\n",
    "            print('*',end='')\n",
    "    for j in range(0,i):\n",
    "        print(' ',end='')\n",
    "    for j in range(0,i):\n",
    "        print(' ',end='')\n",
    "    for j in range(0,1):\n",
    "        print('*',end='')\n",
    "    for j in range(i,4):\n",
    "        print(' ',end='')\n",
    "    for j in range(i,3):\n",
    "        print(' ',end='')\n",
    "    if i!=4:\n",
    "        for j in range(0,1):\n",
    "            print('*',end='')\n",
    "    print()"
   ]
  },
  {
   "cell_type": "code",
   "execution_count": 70,
   "metadata": {},
   "outputs": [
    {
     "name": "stdout",
     "output_type": "stream",
     "text": [
      "*       * \n",
      " *     * \n",
      "  *   * \n",
      "    *   \n",
      "    * \n",
      "    * \n"
     ]
    }
   ],
   "source": [
    "for i in range(0,6):\n",
    "    if i<=3:\n",
    "        if i==3:\n",
    "            for j in range(0,2):\n",
    "                print(' ',end=' ')\n",
    "            for j in range(0,1):\n",
    "                print('*',end=' ')\n",
    "            for j in range(0,1):\n",
    "                print(' ',end=' ')\n",
    "        else:\n",
    "            for j in range(0,i):\n",
    "                print(' ',end='')\n",
    "            for j in range(0,1):\n",
    "                print('*',end='')\n",
    "            for j in range(i,4):\n",
    "                print(' ',end='')\n",
    "            for j in range(i,3):\n",
    "                print(' ',end='')\n",
    "            for j in range(0,1):\n",
    "                print('*',end=' ')\n",
    "    else:\n",
    "        for j in range(0,2):\n",
    "            print(' ',end=' ')\n",
    "        for j in range(0,1):\n",
    "            print('*',end=' ')\n",
    "    print()"
   ]
  },
  {
   "cell_type": "code",
   "execution_count": 85,
   "metadata": {},
   "outputs": [
    {
     "name": "stdout",
     "output_type": "stream",
     "text": [
      "* * * * * \n",
      "      * \n",
      "    * \n",
      "  * \n",
      "* * * * * \n"
     ]
    }
   ],
   "source": [
    "for i in range(0,5):\n",
    "    if i==0 or i==4:\n",
    "        for j in range(0,5):\n",
    "            print('*',end=' ')\n",
    "    else:\n",
    "        for j in range(i,4):\n",
    "            print(' ',end=' ')\n",
    "        for j in range(0,1):\n",
    "            print('*',end=' ')\n",
    "    print()"
   ]
  },
  {
   "cell_type": "code",
   "execution_count": null,
   "metadata": {},
   "outputs": [],
   "source": []
  }
 ],
 "metadata": {
  "kernelspec": {
   "display_name": "Python 3",
   "language": "python",
   "name": "python3"
  },
  "language_info": {
   "codemirror_mode": {
    "name": "ipython",
    "version": 3
   },
   "file_extension": ".py",
   "mimetype": "text/x-python",
   "name": "python",
   "nbconvert_exporter": "python",
   "pygments_lexer": "ipython3",
   "version": "3.8.5"
  }
 },
 "nbformat": 4,
 "nbformat_minor": 4
}
