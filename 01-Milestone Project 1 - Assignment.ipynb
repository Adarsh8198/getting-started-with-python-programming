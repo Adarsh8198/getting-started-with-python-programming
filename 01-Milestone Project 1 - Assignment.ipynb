{
 "cells": [
  {
   "cell_type": "markdown",
   "metadata": {},
   "source": [
    "# Milestone Project 1\n",
    "\n",
    "You've already learned a ton and are ready to work on a real project.\n",
    "\n",
    "Your assignment: Create a Tic Tac Toe game. You are free to use any IDE you like.\n",
    "\n",
    "Here are the requirements:\n",
    "\n",
    "* 2 players should be able to play the game (both sitting at the same computer)\n",
    "* The board should be printed out every time a player makes a move\n",
    "* You should be able to accept input of the player position and then place a symbol on the board\n",
    "\n",
    "Feel free to use Google to help you figure anything out (but don't just Google \"Tic Tac Toe in Python\" otherwise you won't learn anything!) Keep in mind that this project can take anywhere between several hours to several days.\n",
    "\n",
    "\n",
    "I encourage you to just try to start the project on your own without referencing any of the notebooks. If you get stuck, check out the next lecture which is a text lecture with helpful hints and steps. If you're still stuck after that, then check out the Walkthrough Steps Workbook, which breaks up the project in steps for you to solve. Still stuck? Then i will walk you through the solution notebook\n"
   ]
  },
  {
   "cell_type": "markdown",
   "metadata": {},
   "source": [
    "There are parts of this that will be a struggle...and that is good! I have complete faith that if you have made it this far  you have all the tools and knowledge to tackle this project. Remember, it's totally open book, so take your time, do a little research, and remember:\n"
   ]
  },
  {
   "cell_type": "code",
   "execution_count": 1,
   "metadata": {},
   "outputs": [],
   "source": [
    "from IPython.display import clear_output\n",
    "\n",
    "def display_board(board,boardx):\n",
    "    clear_output()\n",
    "    print(boardx[7] + '|' + boardx[8] + '|' + boardx[9] +'     '+ board[7] + '|' + board[8] + '|' + board[9])\n",
    "    print('-+-+-'+'     '+'-+-+-')\n",
    "    print(boardx[4] + '|' + boardx[5] + '|' + boardx[6] +'     '+board[4] + '|' + board[5] + '|' + board[6])\n",
    "    print('-+-+-'+'     '+'-+-+-')\n",
    "    print(boardx[1] + '|' + boardx[2] + '|' + boardx[3] +'     '+board[1] + '|' + board[2] + '|' + board[3])\n",
    "    print()\n",
    "    "
   ]
  },
  {
   "cell_type": "code",
   "execution_count": 2,
   "metadata": {},
   "outputs": [],
   "source": [
    "def player_input():\n",
    "    a=0\n",
    "    inp=input('player1- \\n Enter your choice \"X\" or \"O\": ') \n",
    "    while a==0:\n",
    "        if inp.upper()=='X' or inp.upper()=='O':\n",
    "            a=1\n",
    "        else:\n",
    "            inp=input('Wrong entry! Enter your choice \"X\" or \"O\" : ') \n",
    "    return inp.upper()"
   ]
  },
  {
   "cell_type": "code",
   "execution_count": 3,
   "metadata": {},
   "outputs": [],
   "source": [
    "def place_marker(board, marker, position):\n",
    "    board[position]=marker "
   ]
  },
  {
   "cell_type": "code",
   "execution_count": 4,
   "metadata": {},
   "outputs": [],
   "source": [
    "def win_check(board, mark):\n",
    "    if ((board[9]==mark and board[6]==mark and board[3]==mark) or \n",
    "    (board[9]==mark and board[8]==mark and board[7]==mark) or \n",
    "    (board[8]==mark and board[5]==mark and board[2]==mark) or\n",
    "    (board[7]==mark and board[4]==mark and board[1]==mark) or\n",
    "    (board[4]==mark and board[5]==mark and board[6]==mark) or\n",
    "    (board[1]==mark and board[2]==mark and board[3]==mark) or\n",
    "    (board[9]==mark and board[5]==mark and board[1]==mark) or\n",
    "    (board[7]==mark and board[5]==mark and board[3]==mark)) :\n",
    "        return True\n",
    "    else:\n",
    "        return False\n",
    "        "
   ]
  },
  {
   "cell_type": "code",
   "execution_count": 5,
   "metadata": {},
   "outputs": [],
   "source": [
    "import random\n",
    "\n",
    "def choose_first():\n",
    "    a=random.randint(1,2)\n",
    "    return a"
   ]
  },
  {
   "cell_type": "code",
   "execution_count": 6,
   "metadata": {},
   "outputs": [],
   "source": [
    "def space_check(board, position):\n",
    "    if board[position]==' ':\n",
    "        return True\n",
    "    else:\n",
    "        return False"
   ]
  },
  {
   "cell_type": "code",
   "execution_count": 7,
   "metadata": {},
   "outputs": [],
   "source": [
    "def full_board_check(board):\n",
    "    if ' ' not in board:\n",
    "        return True\n",
    "    else:\n",
    "        return False"
   ]
  },
  {
   "cell_type": "code",
   "execution_count": 8,
   "metadata": {},
   "outputs": [],
   "source": [
    "def player_choice(board):\n",
    "    s=0\n",
    "    a=int(input('Enter the position (1-9) : '))\n",
    "    while s==0:\n",
    "        if space_check(board,a):\n",
    "            s=1\n",
    "            return a\n",
    "        else:\n",
    "            a=int(input('Position taken! Enter another position (1-9) : '))"
   ]
  },
  {
   "cell_type": "code",
   "execution_count": 9,
   "metadata": {},
   "outputs": [],
   "source": [
    "def replay():\n",
    "    a=input(\"do you want to play again (Yes or No): \")\n",
    "    if a.lower().startswith('n'):\n",
    "        return True\n",
    "    else:\n",
    "        return False"
   ]
  },
  {
   "cell_type": "code",
   "execution_count": null,
   "metadata": {},
   "outputs": [
    {
     "name": "stdout",
     "output_type": "stream",
     "text": [
      " | |      X|O|O\n",
      "-+-+-     -+-+-\n",
      " | |      O|X|X\n",
      "-+-+-     -+-+-\n",
      " | |      O|X|O\n",
      "\n",
      "match draw! no one wins this match\n"
     ]
    }
   ],
   "source": [
    "print('Welcome to Tic Tac Toe!')\n",
    "b=['#',' ',' ',' ',' ',' ',' ',' ',' ',' ']\n",
    "bx=['0','1','2','3','4','5','6','7','8','9']\n",
    "q=0\n",
    "p=0\n",
    "while q==0:\n",
    "    display_board(b,bx)\n",
    "    p1=player_input()\n",
    "    if p1=='X':\n",
    "        p2='O'\n",
    "    else:\n",
    "        p2='X'\n",
    "    pc=choose_first()\n",
    "    if pc==1:\n",
    "        print('Player 1 will go first')\n",
    "    else:\n",
    "        print('Player 2 will go first')\n",
    "        \n",
    "    while p==0:\n",
    "        if pc==1:\n",
    "            print('Player1- ')\n",
    "            m=player_choice(b)\n",
    "            b[m]=p1\n",
    "            bx[m]=' '\n",
    "            display_board(b,bx)\n",
    "            if win_check(b,p1):\n",
    "                print('Player 1 wins the match')\n",
    "                p=1\n",
    "            if full_board_check(b):\n",
    "                print('match draw! no one wins this match')\n",
    "                p=1\n",
    "            if p==0:\n",
    "                print('Player2- ')\n",
    "                m=player_choice(b)\n",
    "                b[m]=p2\n",
    "                bx[m]=' '\n",
    "                display_board(b,bx)\n",
    "                if win_check(b,p2):\n",
    "                    print('Player 2 wins the match')\n",
    "                    p=1\n",
    "            \n",
    "        else:\n",
    "            print('Player2- ')\n",
    "            m=player_choice(b)\n",
    "            b[m]=p2\n",
    "            bx[m]=' '\n",
    "            display_board(b,bx)\n",
    "            if win_check(b,p2):\n",
    "                print('Player 2 wins the match')\n",
    "                p=1\n",
    "            if full_board_check(b):\n",
    "                print('match draw! no one wins this match')\n",
    "                p=1\n",
    "            if p==0:\n",
    "                print('Player1- ')\n",
    "                m=player_choice(b)\n",
    "                b[m]=p1\n",
    "                bx[m]=' '\n",
    "                display_board(b,bx)\n",
    "                if win_check(b,p1):\n",
    "                    print('Player 1 wins the match')\n",
    "                    p=1\n",
    "            \n",
    "\n",
    "    if replay():\n",
    "        q=1\n",
    "    else:\n",
    "        b=['#',' ',' ',' ',' ',' ',' ',' ',' ',' ']\n",
    "        bx=['0','1','2','3','4','5','6','7','8','9']"
   ]
  },
  {
   "cell_type": "code",
   "execution_count": null,
   "metadata": {},
   "outputs": [],
   "source": []
  }
 ],
 "metadata": {
  "kernelspec": {
   "display_name": "Python 3",
   "language": "python",
   "name": "python3"
  },
  "language_info": {
   "codemirror_mode": {
    "name": "ipython",
    "version": 3
   },
   "file_extension": ".py",
   "mimetype": "text/x-python",
   "name": "python",
   "nbconvert_exporter": "python",
   "pygments_lexer": "ipython3",
   "version": "3.8.5"
  }
 },
 "nbformat": 4,
 "nbformat_minor": 1
}
