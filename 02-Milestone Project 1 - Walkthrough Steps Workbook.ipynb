{
 "cells": [
  {
   "cell_type": "markdown",
   "metadata": {},
   "source": [
    "# Milestone Project 1: Walkthrough Steps Workbook\n",
    "\n",
    "Below is a set of steps for you to follow to try to create the Tic Tac Toe Milestone Project game!"
   ]
  },
  {
   "cell_type": "markdown",
   "metadata": {},
   "source": [
    "#### Some suggested tools before you get started:\n",
    "To take input from a user:\n",
    "\n",
    "    player1 = input(\"Please pick a marker 'X' or 'O'\")\n",
    "    \n",
    "Note that input() takes in a string. If you need an integer value, use\n",
    "\n",
    "    position = int(input('Please enter a number'))\n",
    "    \n",
    "<br>To clear the screen between moves:\n",
    "\n",
    "    from IPython.display import clear_output\n",
    "    clear_output()\n",
    "    \n",
    "Note that clear_output() will only work in jupyter. To clear the screen in other IDEs, consider:\n",
    "\n",
    "    print('\\n'*100)\n",
    "    \n",
    "This scrolls the previous board up out of view. Now on to the program!"
   ]
  },
  {
   "cell_type": "markdown",
   "metadata": {},
   "source": [
    "**Step 1: Write a function that can print out a board. Set up your board as a list, where each index 1-9 corresponds with a number on a number pad, so you get a 3 by 3 board representation.**"
   ]
  },
  {
   "cell_type": "code",
   "execution_count": 1,
   "metadata": {},
   "outputs": [],
   "source": [
    "from IPython.display import clear_output\n",
    "\n",
    "def display_board(board):\n",
    "    clear_output()\n",
    "    print('7' + '|' + '8' + '|' + '9' +'     '+ board[7] + '|' + board[8] + '|' + board[9])\n",
    "    print('-+-+-'+'     '+'-+-+-')\n",
    "    print('4' + '|' + '5' + '|' + '6' +'     '+board[4] + '|' + board[5] + '|' + board[6])\n",
    "    print('-+-+-'+'     '+'-+-+-')\n",
    "    print('1' + '|' + '2' + '|' + '3' +'     '+board[1] + '|' + board[2] + '|' + board[3])\n",
    "    "
   ]
  },
  {
   "cell_type": "markdown",
   "metadata": {},
   "source": [
    "**TEST Step 1:** run your function on a test version of the board list, and make adjustments as necessary"
   ]
  },
  {
   "cell_type": "code",
   "execution_count": 2,
   "metadata": {},
   "outputs": [
    {
     "name": "stdout",
     "output_type": "stream",
     "text": [
      "7|8|9     X|O|X\n",
      "-+-+-     -+-+-\n",
      "4|5|6     O|X|O\n",
      "-+-+-     -+-+-\n",
      "1|2|3     X|O|X\n"
     ]
    }
   ],
   "source": [
    "test_board = ['#','X','O','X','O','X','O','X','O','X']\n",
    "display_board(test_board)"
   ]
  },
  {
   "cell_type": "markdown",
   "metadata": {},
   "source": [
    "**Step 2: Write a function that can take in a player input and assign their marker as 'X' or 'O'. Think about using *while* loops to continually ask until you get a correct answer.**"
   ]
  },
  {
   "cell_type": "code",
   "execution_count": 3,
   "metadata": {},
   "outputs": [],
   "source": [
    "def player_input():\n",
    "    a=0\n",
    "    inp=input('player1- \\n Enter your choice \"X\" or \"O\": ') \n",
    "    while a==0:\n",
    "        if inp.upper()=='X' or inp.upper()=='O':\n",
    "            a=1\n",
    "        else:\n",
    "            inp=input('Wrong entry! Enter your choice \"X\" or \"O\" : ') \n",
    "    return inp.upper()"
   ]
  },
  {
   "cell_type": "markdown",
   "metadata": {},
   "source": [
    "**TEST Step 2:** run the function to make sure it returns the desired output"
   ]
  },
  {
   "cell_type": "code",
   "execution_count": 4,
   "metadata": {},
   "outputs": [
    {
     "name": "stdout",
     "output_type": "stream",
     "text": [
      "player1- \n",
      " Enter your choice \"X\" or \"O\": q\n",
      "Wrong entry! Enter your choice \"X\" or \"O\" : e\n",
      "Wrong entry! Enter your choice \"X\" or \"O\" : 0\n",
      "Wrong entry! Enter your choice \"X\" or \"O\" : o\n"
     ]
    },
    {
     "data": {
      "text/plain": [
       "'O'"
      ]
     },
     "execution_count": 4,
     "metadata": {},
     "output_type": "execute_result"
    }
   ],
   "source": [
    "player_input()"
   ]
  },
  {
   "cell_type": "markdown",
   "metadata": {},
   "source": [
    "**Step 3: Write a function that takes in the board list object, a marker ('X' or 'O'), and a desired position (number 1-9) and assigns it to the board.**"
   ]
  },
  {
   "cell_type": "code",
   "execution_count": 5,
   "metadata": {},
   "outputs": [],
   "source": [
    "def place_marker(board, marker, position):\n",
    "    board[position]=marker "
   ]
  },
  {
   "cell_type": "markdown",
   "metadata": {},
   "source": [
    "**TEST Step 3:** run the place marker function using test parameters and display the modified board"
   ]
  },
  {
   "cell_type": "code",
   "execution_count": 6,
   "metadata": {},
   "outputs": [
    {
     "name": "stdout",
     "output_type": "stream",
     "text": [
      "7|8|9     X|$|X\n",
      "-+-+-     -+-+-\n",
      "4|5|6     O|X|O\n",
      "-+-+-     -+-+-\n",
      "1|2|3     X|O|X\n"
     ]
    }
   ],
   "source": [
    "place_marker(test_board,'$',8)\n",
    "display_board(test_board)"
   ]
  },
  {
   "cell_type": "markdown",
   "metadata": {},
   "source": [
    "**Step 4: Write a function that takes in a board and a mark (X or O) and then checks to see if that mark has won.**"
   ]
  },
  {
   "cell_type": "code",
   "execution_count": 7,
   "metadata": {},
   "outputs": [],
   "source": [
    "def win_check(board, mark):\n",
    "    if ((board[9]==mark and board[6]==mark and board[3]==mark) or \n",
    "    (board[9]==mark and board[8]==mark and board[7]==mark) or \n",
    "    (board[8]==mark and board[5]==mark and board[2]==mark) or\n",
    "    (board[7]==mark and board[4]==mark and board[1]==mark) or\n",
    "    (board[4]==mark and board[5]==mark and board[6]==mark) or\n",
    "    (board[1]==mark and board[2]==mark and board[3]==mark) or\n",
    "    (board[9]==mark and board[5]==mark and board[1]==mark) or\n",
    "    (board[7]==mark and board[5]==mark and board[3]==mark)) :\n",
    "        return True\n",
    "    else:\n",
    "        return False\n",
    "        "
   ]
  },
  {
   "cell_type": "markdown",
   "metadata": {},
   "source": [
    "**TEST Step 4:** run the win_check function against our test_board - it should return True"
   ]
  },
  {
   "cell_type": "code",
   "execution_count": 8,
   "metadata": {},
   "outputs": [
    {
     "data": {
      "text/plain": [
       "True"
      ]
     },
     "execution_count": 8,
     "metadata": {},
     "output_type": "execute_result"
    }
   ],
   "source": [
    "win_check(test_board,'X')"
   ]
  },
  {
   "cell_type": "markdown",
   "metadata": {},
   "source": [
    "**Step 5: Write a function that uses the random module to randomly decide which player goes first. You may want to lookup random.randint() Return a string of which player went first.**"
   ]
  },
  {
   "cell_type": "code",
   "execution_count": 9,
   "metadata": {},
   "outputs": [],
   "source": [
    "import random\n",
    "\n",
    "def choose_first():\n",
    "    a=random.randint(1,2)\n",
    "    return a"
   ]
  },
  {
   "cell_type": "markdown",
   "metadata": {},
   "source": [
    "**Step 6: Write a function that returns a boolean indicating whether a space on the board is freely available.**"
   ]
  },
  {
   "cell_type": "code",
   "execution_count": 10,
   "metadata": {},
   "outputs": [],
   "source": [
    "def space_check(board, position):\n",
    "    if board[position]==' ':\n",
    "        return True\n",
    "    else:\n",
    "        return False"
   ]
  },
  {
   "cell_type": "markdown",
   "metadata": {},
   "source": [
    "**Step 7: Write a function that checks if the board is full and returns a boolean value. True if full, False otherwise.**"
   ]
  },
  {
   "cell_type": "code",
   "execution_count": 11,
   "metadata": {},
   "outputs": [],
   "source": [
    "def full_board_check(board):\n",
    "    if ' ' not in board:\n",
    "        return True\n",
    "    else:\n",
    "        return False"
   ]
  },
  {
   "cell_type": "markdown",
   "metadata": {},
   "source": [
    "**Step 8: Write a function that asks for a player's next position (as a number 1-9) and then uses the function from step 6 to check if it's a free position. If it is, then return the position for later use.**"
   ]
  },
  {
   "cell_type": "code",
   "execution_count": 12,
   "metadata": {},
   "outputs": [],
   "source": [
    "def player_choice(board):\n",
    "    s=0\n",
    "    a=int(input('Enter the position (1-9) : '))\n",
    "    while s==0:\n",
    "        if space_check(board,a):\n",
    "            s=1\n",
    "            return a\n",
    "        else:\n",
    "            a=int(input('Position taken! Enter another position (1-9) : '))"
   ]
  },
  {
   "cell_type": "markdown",
   "metadata": {},
   "source": [
    "**Step 9: Write a function that asks the player if they want to play again and returns a boolean True if they do want to play again.**"
   ]
  },
  {
   "cell_type": "code",
   "execution_count": 13,
   "metadata": {},
   "outputs": [],
   "source": [
    "def replay():\n",
    "    a=input(\"do you want to play again (Yes or No): \")\n",
    "    if a.lower().startswith('n'):\n",
    "        return True\n",
    "    else:\n",
    "        return False"
   ]
  },
  {
   "cell_type": "markdown",
   "metadata": {
    "collapsed": true
   },
   "source": [
    "**Step 10: Here comes the hard part! Use while loops and the functions you've made to run the game!**"
   ]
  },
  {
   "cell_type": "code",
   "execution_count": null,
   "metadata": {},
   "outputs": [
    {
     "name": "stdout",
     "output_type": "stream",
     "text": [
      "7|8|9     X|X|O\n",
      "-+-+-     -+-+-\n",
      "4|5|6      |O|X\n",
      "-+-+-     -+-+-\n",
      "1|2|3     O| |O\n",
      "Player 2 wins the match\n"
     ]
    }
   ],
   "source": [
    "print('Welcome to Tic Tac Toe!')\n",
    "b=['#',' ',' ',' ',' ',' ',' ',' ',' ',' ']\n",
    "q=0\n",
    "p=0\n",
    "while q==0:\n",
    "    display_board(b)\n",
    "    p1=player_input()\n",
    "    if p1=='X':\n",
    "        p2='O'\n",
    "    else:\n",
    "        p2='X'\n",
    "    pc=choose_first()\n",
    "    if pc==1:\n",
    "        print('Player 1 will go first')\n",
    "    else:\n",
    "        print('Player 2 will go first')\n",
    "        \n",
    "    while p==0:\n",
    "        if pc==1:\n",
    "            print('Player1- ')\n",
    "            m=player_choice(b)\n",
    "            b[m]=p1\n",
    "            display_board(b)\n",
    "            if win_check(b,p1):\n",
    "                print('Player 1 wins the match')\n",
    "                p=1\n",
    "            if full_board_check(b):\n",
    "                print('match draw! no one wins this match')\n",
    "                p=1\n",
    "            if p==0:\n",
    "                print('Player2- ')\n",
    "                m=player_choice(b)\n",
    "                b[m]=p2\n",
    "                display_board(b)\n",
    "                if win_check(b,p2):\n",
    "                    print('Player 2 wins the match')\n",
    "                    p=1\n",
    "            \n",
    "        else:\n",
    "            print('Player2- ')\n",
    "            m=player_choice(b)\n",
    "            b[m]=p2\n",
    "            display_board(b)\n",
    "            if win_check(b,p2):\n",
    "                print('Player 2 wins the match')\n",
    "                p=1\n",
    "            if full_board_check(b):\n",
    "                print('match draw! no one wins this match')\n",
    "                p=1\n",
    "            if p==0:\n",
    "                print('Player1- ')\n",
    "                m=player_choice(b)\n",
    "                b[m]=p1\n",
    "                display_board(b)\n",
    "                if win_check(b,p1):\n",
    "                    print('Player 1 wins the match')\n",
    "                    p=1\n",
    "            \n",
    "\n",
    "    if replay():\n",
    "        q=1\n",
    "    else:\n",
    "        b=['#',' ',' ',' ',' ',' ',' ',' ',' ',' ']"
   ]
  },
  {
   "cell_type": "markdown",
   "metadata": {
    "collapsed": true
   },
   "source": [
    "## Good Job!"
   ]
  },
  {
   "cell_type": "code",
   "execution_count": null,
   "metadata": {},
   "outputs": [],
   "source": []
  }
 ],
 "metadata": {
  "kernelspec": {
   "display_name": "Python 3",
   "language": "python",
   "name": "python3"
  },
  "language_info": {
   "codemirror_mode": {
    "name": "ipython",
    "version": 3
   },
   "file_extension": ".py",
   "mimetype": "text/x-python",
   "name": "python",
   "nbconvert_exporter": "python",
   "pygments_lexer": "ipython3",
   "version": "3.8.5"
  }
 },
 "nbformat": 4,
 "nbformat_minor": 1
}
