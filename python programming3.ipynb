{
 "cells": [
  {
   "cell_type": "code",
   "execution_count": 1,
   "metadata": {},
   "outputs": [],
   "source": [
    "a=[3,4,5,6,7]"
   ]
  },
  {
   "cell_type": "code",
   "execution_count": null,
   "metadata": {},
   "outputs": [],
   "source": [
    "a."
   ]
  },
  {
   "cell_type": "code",
   "execution_count": 3,
   "metadata": {},
   "outputs": [
    {
     "data": {
      "text/plain": [
       "4"
      ]
     },
     "execution_count": 3,
     "metadata": {},
     "output_type": "execute_result"
    }
   ],
   "source": [
    "a.pop(1)"
   ]
  },
  {
   "cell_type": "code",
   "execution_count": 4,
   "metadata": {},
   "outputs": [
    {
     "data": {
      "text/plain": [
       "[3, 5, 6, 7]"
      ]
     },
     "execution_count": 4,
     "metadata": {},
     "output_type": "execute_result"
    }
   ],
   "source": [
    "a"
   ]
  },
  {
   "cell_type": "code",
   "execution_count": 9,
   "metadata": {},
   "outputs": [],
   "source": [
    "a.reverse()"
   ]
  },
  {
   "cell_type": "code",
   "execution_count": 10,
   "metadata": {},
   "outputs": [
    {
     "data": {
      "text/plain": [
       "[7, 6, 5, 3]"
      ]
     },
     "execution_count": 10,
     "metadata": {},
     "output_type": "execute_result"
    }
   ],
   "source": [
    "a"
   ]
  },
  {
   "cell_type": "code",
   "execution_count": 15,
   "metadata": {},
   "outputs": [
    {
     "data": {
      "text/plain": [
       "'dell.com'"
      ]
     },
     "execution_count": 15,
     "metadata": {},
     "output_type": "execute_result"
    }
   ],
   "source": [
    "a=['test4443@dell.com']\n",
    "d=a[0].split(\"@\")\n",
    "d[1]"
   ]
  },
  {
   "cell_type": "code",
   "execution_count": 8,
   "metadata": {},
   "outputs": [
    {
     "name": "stdout",
     "output_type": "stream",
     "text": [
      "['hello', 'game', 12, 23, 666.44, 34, 234.34, 243.2, 'www', 22, 33.4, 'karma']\n",
      "there are total 4 strings : ['hello', 'game', 'www', 'karma']\n",
      "there are total 4 integers : [12, 23, 34, 22]\n",
      "there are total 4 floating values : [666.44, 234.34, 243.2, 33.4]\n"
     ]
    }
   ],
   "source": [
    "\n",
    "s=['hello','game',12,23,666.44,34,234.34,243.2, 'www',22,33.4,'karma']\n",
    "print(s)\n",
    "no=[]\n",
    "wo=[]\n",
    "fl=[]\n",
    "for i in s:\n",
    "    if type(i) is int:\n",
    "        no.append(i)\n",
    "    elif type(i) is str:\n",
    "        wo.append(i)\n",
    "    elif type(i) is float:\n",
    "        fl.append(i)\n",
    "print('there are total {} strings : {}'.format(len(wo),wo))\n",
    "print('there are total {} integers : {}'.format(len(no),no))\n",
    "print('there are total {} floating values : {}'.format(len(fl),fl))"
   ]
  },
  {
   "cell_type": "code",
   "execution_count": 4,
   "metadata": {},
   "outputs": [
    {
     "name": "stdout",
     "output_type": "stream",
     "text": [
      "enter the total no. of players : 3\n",
      "enter name player no. 1 : virat\n",
      "enter total runs scored : 10000\n",
      "enter total matches played : 200\n",
      "\n",
      "\n",
      "enter name player no. 2 : dhoni\n",
      "enter total runs scored : 12000\n",
      "enter total matches played : 300\n",
      "\n",
      "\n",
      "enter name player no. 3 : rohit\n",
      "enter total runs scored : 8000\n",
      "enter total matches played : 190\n",
      "\n",
      "\n",
      "run rate of virat is : 50\n",
      "run rate of dhoni is : 40\n",
      "run rate of rohit is : 42\n"
     ]
    }
   ],
   "source": [
    "a= int(input(\"enter the total no. of players : \"))\n",
    "player=[]\n",
    "score=[]\n",
    "match=[]\n",
    "rr=[]\n",
    "for i in range(a):\n",
    "    player.append(input('enter name player no. {} : '.format(i+1)))\n",
    "    score.append(int(input('enter total runs scored : ')))\n",
    "    match.append(int(input('enter total matches played : ')))\n",
    "    print('\\n')\n",
    "for i in range(len(player)):\n",
    "    rr.append(int(score[i]/match[i]))\n",
    "    print('run rate of {} is : {}'.format(player[i],rr[i]))"
   ]
  },
  {
   "cell_type": "code",
   "execution_count": 6,
   "metadata": {},
   "outputs": [
    {
     "name": "stdout",
     "output_type": "stream",
     "text": [
      "[1, 2, 3, 4, 6, 8, 12, 43]\n"
     ]
    }
   ],
   "source": [
    "q=[1,4,3,2,43,6,8,12]\n",
    "q.sort()\n",
    "print(q)"
   ]
  },
  {
   "cell_type": "code",
   "execution_count": 5,
   "metadata": {},
   "outputs": [
    {
     "name": "stdout",
     "output_type": "stream",
     "text": [
      "enter the no. you want to find : 3\n",
      "3 found \n",
      " occurrence 3 times \n",
      " first found at index 2\n"
     ]
    }
   ],
   "source": [
    "q=[1,2,3,3,3,5,6,6,6,7,7,9,10,10]\n",
    "t=0\n",
    "a=int(input('enter the no. you want to find : '))\n",
    "for i in q:\n",
    "    if i==a:\n",
    "        f=1\n",
    "        t=t+1\n",
    "if f==1:\n",
    "    print('{} found \\n occurrence {} times \\n first found at index {}'.format(a,t,q.index(a)))"
   ]
  },
  {
   "cell_type": "code",
   "execution_count": 2,
   "metadata": {},
   "outputs": [
    {
     "name": "stdout",
     "output_type": "stream",
     "text": [
      "enter total no. of student4\n",
      "enter the marks of student 1 :55\n",
      "enter the marks of student 2 :32\n",
      "enter the marks of student 3 :99\n",
      "enter the marks of student 4 :23\n",
      "highest marks scored is 99 \n",
      " lowest marks scored is 23\n"
     ]
    }
   ],
   "source": [
    "a=int(input(\"enter total no. of student\"))\n",
    "s=[]\n",
    "for i in range(a):\n",
    "    s.append(int(input(\"enter the marks of student {} :\".format(i+1))))\n",
    "small=s[0]\n",
    "large=s[0]\n",
    "for i in s:\n",
    "    if i<small:\n",
    "        small=i\n",
    "    elif i>large:\n",
    "        large=i\n",
    "print(\"highest marks scored is {} \\n lowest marks scored is {}\".format(large,small))"
   ]
  },
  {
   "cell_type": "code",
   "execution_count": 6,
   "metadata": {},
   "outputs": [
    {
     "name": "stdout",
     "output_type": "stream",
     "text": [
      "1225\n"
     ]
    }
   ],
   "source": [
    "sum=0\n",
    "for i in range(1,50,1):\n",
    "    sum=sum+i\n",
    "    \n",
    "print(sum)"
   ]
  },
  {
   "cell_type": "code",
   "execution_count": 8,
   "metadata": {},
   "outputs": [
    {
     "name": "stdout",
     "output_type": "stream",
     "text": [
      "even no. between 1 to 100 : [2, 4, 6, 8, 10, 12, 14, 16, 18, 20, 22, 24, 26, 28, 30, 32, 34, 36, 38, 40, 42, 44, 46, 48, 50, 52, 54, 56, 58, 60, 62, 64, 66, 68, 70, 72, 74, 76, 78, 80, 82, 84, 86, 88, 90, 92, 94, 96, 98]\n",
      "odd no. between 1 to 100 : [1, 3, 5, 7, 9, 11, 13, 15, 17, 19, 21, 23, 25, 27, 29, 31, 33, 35, 37, 39, 41, 43, 45, 47, 49, 51, 53, 55, 57, 59, 61, 63, 65, 67, 69, 71, 73, 75, 77, 79, 81, 83, 85, 87, 89, 91, 93, 95, 97, 99]\n"
     ]
    }
   ],
   "source": [
    "ev=[]\n",
    "od=[]\n",
    "for i in range(1,100,1):\n",
    "    if i%2==0:\n",
    "        ev.append(i)\n",
    "    else:\n",
    "        od.append(i)\n",
    "print('even no. between 1 to 100 : {}'.format(ev))\n",
    "print('odd no. between 1 to 100 : {}'.format(od))"
   ]
  },
  {
   "cell_type": "code",
   "execution_count": 1,
   "metadata": {},
   "outputs": [
    {
     "name": "stdout",
     "output_type": "stream",
     "text": [
      "Enter how many values you want to enter 4\n",
      "Please enter Number 1 10\n",
      "Please enter Number 2 20\n",
      "Please enter Number 3 30\n",
      "Please enter Number 4 50\n",
      "110\n"
     ]
    }
   ],
   "source": [
    "score = []\n",
    "var = int(input('Enter how many values you want to enter '))\n",
    "for i in range(var):\n",
    "    s = int(input('Please enter Number {} '.format(i+1)))\n",
    "    score.append(s)\n",
    "# print(score)\n",
    "v = 0\n",
    "for i in score:\n",
    "    v = v+i\n",
    "print(v)"
   ]
  },
  {
   "cell_type": "code",
   "execution_count": null,
   "metadata": {},
   "outputs": [],
   "source": []
  }
 ],
 "metadata": {
  "kernelspec": {
   "display_name": "Python 3",
   "language": "python",
   "name": "python3"
  },
  "language_info": {
   "codemirror_mode": {
    "name": "ipython",
    "version": 3
   },
   "file_extension": ".py",
   "mimetype": "text/x-python",
   "name": "python",
   "nbconvert_exporter": "python",
   "pygments_lexer": "ipython3",
   "version": "3.8.5"
  }
 },
 "nbformat": 4,
 "nbformat_minor": 4
}
