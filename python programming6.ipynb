{
 "cells": [
  {
   "cell_type": "code",
   "execution_count": 15,
   "metadata": {},
   "outputs": [
    {
     "name": "stdout",
     "output_type": "stream",
     "text": [
      "10\n",
      "30\n",
      "50\n",
      "70\n"
     ]
    },
    {
     "data": {
      "text/plain": [
       "tuple"
      ]
     },
     "execution_count": 15,
     "metadata": {},
     "output_type": "execute_result"
    }
   ],
   "source": [
    "t=(10,20,30),(30,40,50),(50,60,70),(70,80,90)\n",
    "for i in range(0,len(t)):\n",
    "    for j in range(0,1):\n",
    "        print(t[i][j])\n",
    "type(t)"
   ]
  },
  {
   "cell_type": "code",
   "execution_count": 17,
   "metadata": {
    "scrolled": true
   },
   "outputs": [
    {
     "name": "stdout",
     "output_type": "stream",
     "text": [
      "enter the name : adarsh\n",
      "class of adarsh is 10th\n",
      "roll of adarsh is 101\n"
     ]
    }
   ],
   "source": [
    "name=['adarsh','atul','kapil']\n",
    "cl=['10th','6th','8th']\n",
    "roll=[101,102,103]\n",
    "student=[name,cl,roll]\n",
    "a=input('enter the name : ')\n",
    "for i in range(0,len(student[0])):\n",
    "    if student[0][i]==a:\n",
    "        print(\"class of {} is {}\".format(a,student[1][i]))\n",
    "        print(\"roll of {} is {}\".format(a,student[2][i]))"
   ]
  },
  {
   "cell_type": "code",
   "execution_count": 20,
   "metadata": {},
   "outputs": [
    {
     "name": "stdout",
     "output_type": "stream",
     "text": [
      "gmail\n"
     ]
    },
    {
     "data": {
      "text/plain": [
       "dict"
      ]
     },
     "execution_count": 20,
     "metadata": {},
     "output_type": "execute_result"
    }
   ],
   "source": [
    "n1='nandesh123@gmail.com'\n",
    "n2=['nandesh123@gmail.com']\n",
    "n3= {'key':'nandesh123@gmail.com'}\n",
    "n4=('nandesh123@gmail.com',)\n",
    "name=n3\n",
    "if type(name)== str:\n",
    "    print(name[name.index('g'):-4])\n",
    "elif type(name)== list:\n",
    "    print(name[0][name[0].index('g'):-4])\n",
    "elif type(name)== tuple:\n",
    "    print(name[0][name[0].index('g'):-4])\n",
    "else:\n",
    "    print(name['key'][name['key'].index('g'):-4])\n",
    "type(name)"
   ]
  },
  {
   "cell_type": "code",
   "execution_count": 10,
   "metadata": {},
   "outputs": [
    {
     "name": "stdout",
     "output_type": "stream",
     "text": [
      "{'a': 7, 'e': 5, 'i': 4, 'o': 2, 'u': 1}\n"
     ]
    }
   ],
   "source": [
    "str='hi i am nandesh and i want to learn treading can you help me'\n",
    "s={'a':0,'e':0,'i':0,'o':0,'u':0}\n",
    "for i in str:\n",
    "    if i=='a':\n",
    "        s.update({'a':(s['a']+1)})\n",
    "    elif i=='e':\n",
    "        s.update({'e':(s['e']+1)})\n",
    "    elif i=='i':\n",
    "        s.update({'i':(s['i']+1)})\n",
    "    elif i=='o':\n",
    "        s.update({'o':(s['o']+1)})\n",
    "    elif i=='u':\n",
    "        s.update({'u':(s['u']+1)})\n",
    "print(s)"
   ]
  },
  {
   "cell_type": "code",
   "execution_count": 11,
   "metadata": {},
   "outputs": [
    {
     "name": "stdout",
     "output_type": "stream",
     "text": [
      "How many states are there in India?\n",
      "a.29\n",
      "b.30\n",
      "c.28\n",
      "d.None of the above\n",
      "\n",
      "What is the correct answer for this question : a\n",
      "Congratulation your answer is correct and your score  is  1\n",
      "\n",
      "How many data types  are there in Python?\n",
      "a.2\n",
      "b.3\n",
      "c.6\n",
      "d.None of the above\n",
      "\n",
      "What is the correct answer for this question : b\n",
      "Sorry your answer is incorrect and your score is  1\n",
      "\n",
      "How many continents are there in World?\n",
      "a.7\n",
      "b.5\n",
      "c.4\n",
      "d.None of the above\n",
      "\n",
      "What is the correct answer for this question : b\n",
      "Sorry your answer is incorrect and your score is  1\n",
      "\n",
      "How many stock exchanges are there in India?\n",
      "a.2\n",
      "b.5\n",
      "c.4\n",
      "d.None of the above\n",
      "\n",
      "What is the correct answer for this question : b\n",
      "Sorry your answer is incorrect and your score is  1\n",
      "\n"
     ]
    }
   ],
   "source": [
    "q1 = \"\"\"How many states are there in India?\n",
    "a.29\n",
    "b.30\n",
    "c.28\n",
    "d.None of the above\n",
    "\"\"\"\n",
    "\n",
    "\n",
    "q2 = \"\"\"How many data types  are there in Python?\n",
    "a.2\n",
    "b.3\n",
    "c.6\n",
    "d.None of the above\n",
    "\"\"\"\n",
    "\n",
    "q3 = \"\"\"How many continents are there in World?\n",
    "a.7\n",
    "b.5\n",
    "c.4\n",
    "d.None of the above\n",
    "\"\"\"\n",
    "\n",
    "q4 = \"\"\"How many stock exchanges are there in India?\n",
    "a.2\n",
    "b.5\n",
    "c.4\n",
    "d.None of the above\n",
    "\"\"\"\n",
    "question = {q1:\"a\",q2:\"c\",q3:'a',q4:\"a\"}\n",
    "score = 0\n",
    "for i in question:\n",
    "    print(i)\n",
    "    resp = input('What is the correct answer for this question : ')\n",
    "    if resp.lower() == question[i]:\n",
    "        score += 1\n",
    "        print(\"Congratulation your answer is correct and your score  is \", score)\n",
    "        print()\n",
    "    else:\n",
    "        print('Sorry your answer is incorrect and your score is ', score)\n",
    "        print()  \n"
   ]
  },
  {
   "cell_type": "code",
   "execution_count": 14,
   "metadata": {},
   "outputs": [
    {
     "name": "stdout",
     "output_type": "stream",
     "text": [
      "yahoo\n"
     ]
    }
   ],
   "source": [
    "#using split \n",
    "name = 'nandesh123@yahoo.com'\n",
    "if type(name) == str:\n",
    "  print(name.split(\"@\")[-1][:-4])\n",
    "elif type(name) == list:\n",
    "  print(name[0].split(\"@\")[-1][:-4])\n",
    "elif type(name) == tuple:\n",
    "  print(name[0].split(\"@\")[-1][:-4])\n",
    "else:\n",
    "  for i in name.values():\n",
    "    print(i.split(\"@\")[-1][:-4])"
   ]
  },
  {
   "cell_type": "code",
   "execution_count": null,
   "metadata": {},
   "outputs": [],
   "source": []
  }
 ],
 "metadata": {
  "kernelspec": {
   "display_name": "Python 3",
   "language": "python",
   "name": "python3"
  },
  "language_info": {
   "codemirror_mode": {
    "name": "ipython",
    "version": 3
   },
   "file_extension": ".py",
   "mimetype": "text/x-python",
   "name": "python",
   "nbconvert_exporter": "python",
   "pygments_lexer": "ipython3",
   "version": "3.8.5"
  }
 },
 "nbformat": 4,
 "nbformat_minor": 4
}
