{
 "cells": [
  {
   "cell_type": "code",
   "execution_count": 1,
   "metadata": {},
   "outputs": [
    {
     "name": "stdout",
     "output_type": "stream",
     "text": [
      "* \n",
      "* * \n",
      "* * * \n",
      "* * * * \n",
      "* * * * * \n"
     ]
    }
   ],
   "source": [
    "num=5\n",
    "for i in range(1,num+1):\n",
    "    for j in range(1,i+1):\n",
    "        print('*',end=' ')\n",
    "    print()"
   ]
  },
  {
   "cell_type": "code",
   "execution_count": 2,
   "metadata": {},
   "outputs": [
    {
     "name": "stdout",
     "output_type": "stream",
     "text": [
      "* \n",
      "* * * \n",
      "* * * * * \n",
      "* * * * * * * \n",
      "* * * * * * * * * \n"
     ]
    }
   ],
   "source": [
    "num=5\n",
    "for i in range(1,num+num,2):\n",
    "    for j in range(1,i+1):\n",
    "        print('*',end=' ')\n",
    "    print()"
   ]
  },
  {
   "cell_type": "code",
   "execution_count": 3,
   "metadata": {},
   "outputs": [
    {
     "name": "stdout",
     "output_type": "stream",
     "text": [
      "          * \n",
      "        * * * \n",
      "      * * * * * \n",
      "    * * * * * * * \n",
      "  * * * * * * * * * \n"
     ]
    }
   ],
   "source": [
    "num=5\n",
    "a=0\n",
    "for i in range(1,num+num,2):\n",
    "    for j in range(a,num+num):\n",
    "        print(\"\",end=' ')       \n",
    "    for j in range(1,i+1):\n",
    "        print('*',end=' ')\n",
    "    a=a+2\n",
    "    print()"
   ]
  },
  {
   "cell_type": "code",
   "execution_count": 4,
   "metadata": {},
   "outputs": [
    {
     "name": "stdout",
     "output_type": "stream",
     "text": [
      " * * * * * \n",
      "  * * * * \n",
      "   * * * \n",
      "    * * \n",
      "     * \n"
     ]
    }
   ],
   "source": [
    "num=5\n",
    "b=num\n",
    "for i in range(1,num+1):\n",
    "    for j in range(b,num+1):\n",
    "        print(\"\",end=' ')  \n",
    "    for j in range(i,num+1):\n",
    "        print('*',end=' ')\n",
    "    b=b-1\n",
    "    print()"
   ]
  },
  {
   "cell_type": "code",
   "execution_count": 5,
   "metadata": {},
   "outputs": [
    {
     "name": "stdout",
     "output_type": "stream",
     "text": [
      "     * \n",
      "    * * \n",
      "   * * * \n",
      "  * * * * \n",
      " * * * * * \n",
      "  * * * * \n",
      "   * * * \n",
      "    * * \n",
      "     * \n",
      "      \n"
     ]
    }
   ],
   "source": [
    "num=5\n",
    "a=0\n",
    "b=num-1\n",
    "for i in range(1,num+1):\n",
    "    for j in range(a,num):\n",
    "        print(\"\",end=' ')  \n",
    "    for j in range(1,i+1):\n",
    "        print('*',end=' ')\n",
    "    a=a+1\n",
    "    print()\n",
    "for i in range(1,num+1):\n",
    "    for j in range(b,num+1):\n",
    "        print(\"\",end=' ')  \n",
    "    for j in range(i,num):\n",
    "        print('*',end=' ')\n",
    "    b=b-1\n",
    "    print()"
   ]
  },
  {
   "cell_type": "code",
   "execution_count": 6,
   "metadata": {},
   "outputs": [
    {
     "name": "stdout",
     "output_type": "stream",
     "text": [
      "* * * * * \n",
      "* * * * \n",
      "* * * \n",
      "* * \n",
      "* \n"
     ]
    }
   ],
   "source": [
    "num=5\n",
    "for i in range(1,num+1):\n",
    "    for j in range(i,num+1):\n",
    "        print('*',end=' ')\n",
    "    print()"
   ]
  },
  {
   "cell_type": "code",
   "execution_count": 7,
   "metadata": {},
   "outputs": [
    {
     "name": "stdout",
     "output_type": "stream",
     "text": [
      "      * \n",
      "     * * \n",
      "    *   * \n",
      "   *  *  * \n",
      "  *       * \n",
      " *         * \n"
     ]
    }
   ],
   "source": [
    "a=5\n",
    "for i in range(0,1):\n",
    "    for j in range(0,6):\n",
    "        print(\"\",end=' ')\n",
    "    for j in range(0,1):\n",
    "        print('*',end=' ')\n",
    "    print()\n",
    "        \n",
    "for i in range(0,5,1):\n",
    "    for j in range(i,5):\n",
    "        print(\"\",end=' ')  \n",
    "    for j in range(i,i+1):\n",
    "        print('*',end=' ')\n",
    "    if i==2:\n",
    "        for j in range(a,4):\n",
    "            print(\"\",end=' ') \n",
    "        for j in range(0,1):\n",
    "            print(\"*\",end=' ')\n",
    "        for j in range(a,4):\n",
    "            print(\"\",end=' ')\n",
    "    else:\n",
    "        for j in range(a,5):\n",
    "            print(\"\",end=' ') \n",
    "        for j in range(a,5):\n",
    "            print(\"\",end=' ') \n",
    "    for j in range(i,i+1):\n",
    "            print('*',end=' ')\n",
    "    a=a-1\n",
    "    print()"
   ]
  },
  {
   "cell_type": "code",
   "execution_count": 9,
   "metadata": {},
   "outputs": [
    {
     "name": "stdout",
     "output_type": "stream",
     "text": [
      "* * * \n",
      "*     * \n",
      "* * * \n",
      "*     * \n",
      "* * * \n"
     ]
    }
   ],
   "source": [
    "for i in range(0,5,1):\n",
    "    for j in range(i,i+1):\n",
    "        print('*',end=' ')\n",
    "    if i%2==0:\n",
    "        for j in range(0,2):\n",
    "            print('*',end=' ')\n",
    "    else:\n",
    "        for j in range(0,2):\n",
    "            print(' ',end=' ')\n",
    "        for j in range(0,1):\n",
    "            print('*',end=' ')\n",
    "    print()"
   ]
  },
  {
   "cell_type": "code",
   "execution_count": 10,
   "metadata": {},
   "outputs": [
    {
     "name": "stdout",
     "output_type": "stream",
     "text": [
      "  * * * \n",
      "* \n",
      "* \n",
      "* \n",
      "  * * * \n"
     ]
    }
   ],
   "source": [
    "for i in range(0,5,1):\n",
    "    if i==0 or i==4:\n",
    "        for j in range(0,1):\n",
    "            print(' ',end=' ')\n",
    "        for j in range(0,3):\n",
    "            print('*',end=' ')\n",
    "        \n",
    "    else:\n",
    "        for j in range(i,i+1):\n",
    "            print('*',end=' ')\n",
    "    print()"
   ]
  },
  {
   "cell_type": "code",
   "execution_count": 11,
   "metadata": {},
   "outputs": [
    {
     "name": "stdout",
     "output_type": "stream",
     "text": [
      "* * * \n",
      "*     * \n",
      "*     * \n",
      "*     * \n",
      "* * * \n"
     ]
    }
   ],
   "source": [
    "for i in range(0,5,1):\n",
    "    for j in range(i,i+1):\n",
    "        print('*',end=' ')\n",
    "    if i==0 or i==4:\n",
    "        for j in range(0,2):\n",
    "            print('*',end=' ')\n",
    "    else:\n",
    "        for j in range(0,2):\n",
    "            print(' ',end=' ')\n",
    "        for j in range(0,1):\n",
    "            print('*',end=' ')\n",
    "    print()"
   ]
  },
  {
   "cell_type": "code",
   "execution_count": 12,
   "metadata": {},
   "outputs": [
    {
     "name": "stdout",
     "output_type": "stream",
     "text": [
      "* * * \n",
      "* \n",
      "* * * \n",
      "* \n",
      "* * * \n"
     ]
    }
   ],
   "source": [
    "for i in range(0,5,1):\n",
    "    for j in range(i,i+1):\n",
    "        print('*',end=' ')\n",
    "    if i%2==0:\n",
    "        for j in range(0,2):\n",
    "            print('*',end=' ')\n",
    "    print()"
   ]
  },
  {
   "cell_type": "code",
   "execution_count": null,
   "metadata": {},
   "outputs": [],
   "source": []
  }
 ],
 "metadata": {
  "kernelspec": {
   "display_name": "Python 3",
   "language": "python",
   "name": "python3"
  },
  "language_info": {
   "codemirror_mode": {
    "name": "ipython",
    "version": 3
   },
   "file_extension": ".py",
   "mimetype": "text/x-python",
   "name": "python",
   "nbconvert_exporter": "python",
   "pygments_lexer": "ipython3",
   "version": "3.8.5"
  }
 },
 "nbformat": 4,
 "nbformat_minor": 4
}
