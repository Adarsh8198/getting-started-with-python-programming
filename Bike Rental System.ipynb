{
 "cells": [
  {
   "cell_type": "markdown",
   "metadata": {},
   "source": [
    "# Bike Rental System\n",
    "Build a bike rental system using object oriented programming.\n",
    "\n",
    "Where \n",
    "Customers can\n",
    "See available bikes on the shop\n",
    "Rent bikes on hourly basis $5 per hour.\n",
    "Rent bikes on daily basis $20 per day.\n",
    "Rent bikes on weekly basis $60 per week.\n",
    "Family Rental, a promotion that can include from 3 to 5 Rentals (of any type) with a discount of 30% of the total price\n",
    "\n",
    "The bike rental shop can\n",
    "issue a bill when customer decides to return the bike.\n",
    "display available inventory\n",
    "take requests on hourly, daily and weekly basis by cross verifying stock\n",
    "\n",
    "\n",
    "For simplicity you can assume that\n",
    "Any customer requests rentals of only one type i.e hourly, monthly or weekly\n",
    "Is free to chose the number of bikes he/she wants\n",
    "Requested bikes should be less than available stock."
   ]
  },
  {
   "cell_type": "code",
   "execution_count": 10,
   "metadata": {},
   "outputs": [],
   "source": [
    "import datetime\n",
    "\n",
    "class BikeRental:\n",
    "    \n",
    "    def __init__(self,stock=0):\n",
    "        self.stock = stock\n",
    "\n",
    "    def display(self):\n",
    "        print(\"We have currently {} bikes available to rent.\".format(self.stock))\n",
    "\n",
    "    def rentBikeHourly(self, n):\n",
    "        if n <= 0:\n",
    "            print(\"Number of bikes should be more then one\")\n",
    "        \n",
    "        elif n > self.stock:\n",
    "            print(\"Sorry! We have currently {} bikes available to rent.\".format(self.stock))\n",
    "        \n",
    "        else:\n",
    "            now = datetime.datetime.now()                      \n",
    "            print(\"You have rented a {} bike(s) on hourly basis today at {} .\".format(n,now))\n",
    "            print(\"You will be charged $5 for each hour per bike.\")\n",
    "            print(\"We hope that you enjoy our service.\")\n",
    "\n",
    "            self.stock -= n\n",
    "            return now      \n",
    "     \n",
    "    def rentBikeDaily(self, n):\n",
    "        if n <= 0:\n",
    "            print(\"Number of bikes should be positive!\")\n",
    "            \n",
    "        elif n > self.stock:\n",
    "            print(\"Sorry! We have currently {} bikes available to rent.\".format(self.stock))\n",
    "    \n",
    "        else:\n",
    "            now = datetime.datetime.now()                      \n",
    "            print(\"You have rented {} bike(s) on daily basis today at {} .\".format(n, now))\n",
    "            print(\"You will be charged $20 for each day per bike.\")\n",
    "            print(\"We hope that you enjoy our service.\")\n",
    "\n",
    "            self.stock -= n\n",
    "            return now\n",
    "        \n",
    "    def rentBikeWeekly(self, n):\n",
    "        if n <= 0:\n",
    "            print(\"Number of bikes should be positive!\")\n",
    "\n",
    "        elif n > self.stock:\n",
    "            print(\"Sorry! We have currently {} bikes available to rent.\".format(self.stock))\n",
    "        \n",
    "        else:\n",
    "            now = datetime.datetime.now()\n",
    "            print(\"You have rented {} bike(s) on weekly basis today at {}.\".format(n, now))\n",
    "            print(\"You will be charged $60 for each week per bike.\")\n",
    "            print(\"We hope that you enjoy our service.\")\n",
    "            self.stock -= n\n",
    "\n",
    "            return now\n",
    "    \n",
    "\n",
    "    \n",
    "    def returnBike(self, a):\n",
    "        time, rental, bnum=a\n",
    "        bill = 0\n",
    "\n",
    "        if time and rental and bnum:\n",
    "            self.stock += bnum\n",
    "            now = datetime.datetime(2021, 2, 21, 12, 26, 20, 364470) #this is for testing perp. use datetime.datetime.now()  \n",
    "            rperiod = now - time\n",
    "        \n",
    "            if rental == 1:\n",
    "                bill = round(rperiod.seconds / 3600) * 5 * bnum\n",
    "                \n",
    "            elif rental == 2:\n",
    "                bill = round(rperiod.days) * 20 * bnum\n",
    "                \n",
    "            elif rental == 3:\n",
    "                bill = round(rperiod.days / 7) * 60 * bnum\n",
    "            \n",
    "               \n",
    "            if (3 <= bnum <= 5):\n",
    "                print(\"Your total bill before discount is ${}\".format(bill))\n",
    "                print(\"You are eligible for Family rental promotion of 30% discount\")\n",
    "                bill = bill -(bill*0.3)\n",
    "\n",
    "            print(\"Thanks for returning your bike. Hope you enjoyed our service!\")\n",
    "            print(\"That would be ${}\".format(bill))\n",
    "            return bill\n",
    "        else:\n",
    "            print(\"Are you sure you rented a bike with us?\")\n",
    "            return None\n",
    "\n",
    "\n",
    "\n"
   ]
  },
  {
   "cell_type": "code",
   "execution_count": 11,
   "metadata": {},
   "outputs": [],
   "source": [
    "class Customer:\n",
    "\n",
    "    def __init__(self):\n",
    "        self.bikes = 0\n",
    "        self.rental = 0\n",
    "        self.time = 0\n",
    "    \n",
    "    def requestBike(self):             \n",
    "        bikes = int(input(\"How many bikes would you like to rent?\"))\n",
    "        if bikes < 1:\n",
    "            print(\"Invalid input. Number of bikes should be greater than zero!\")\n",
    "        else:\n",
    "            self.bikes = bikes\n",
    "            return self.bikes\n",
    "     \n",
    "    def returnBike(self):\n",
    "        if self.rental and self.time and self.bikes:\n",
    "            return self.time, self.rental, self.bikes  \n",
    "        else:\n",
    "            return 0,0,0"
   ]
  },
  {
   "cell_type": "code",
   "execution_count": 12,
   "metadata": {},
   "outputs": [
    {
     "name": "stdout",
     "output_type": "stream",
     "text": [
      "We have currently 20 bikes available to rent.\n"
     ]
    }
   ],
   "source": [
    "rajuRental= BikeRental(20)\n",
    "rajuRental.display()"
   ]
  },
  {
   "cell_type": "code",
   "execution_count": 13,
   "metadata": {
    "scrolled": true
   },
   "outputs": [
    {
     "name": "stdout",
     "output_type": "stream",
     "text": [
      "Enter 1 if you want bike for Hourly basis\n",
      "Enter 2 if you want bike for Daily basis\n",
      "Enter 3 if you want bike for Weeky basis\n",
      "Your choice- 2\n",
      "How many bikes would you like to rent?3\n",
      "You have rented 3 bike(s) on daily basis today at 2021-02-17 12:29:54.238709 .\n",
      "You will be charged $20 for each day per bike.\n",
      "We hope that you enjoy our service.\n"
     ]
    }
   ],
   "source": [
    "print('Enter 1 if you want bike for Hourly basis')\n",
    "print('Enter 2 if you want bike for Daily basis')\n",
    "print('Enter 3 if you want bike for Weeky basis')\n",
    "q=0\n",
    "while q!=1:\n",
    "    r=int(input('Your choice- '))\n",
    "    c1=Customer()\n",
    "    if r==1:\n",
    "        b=c1.requestBike()\n",
    "        t=rajuRental.rentBikeHourly(b)\n",
    "        c1.rental=r\n",
    "        c1.time=t\n",
    "        q=1\n",
    "    elif r==2:\n",
    "        b=c1.requestBike()\n",
    "        t=rajuRental.rentBikeDaily(b)\n",
    "        c1.rental=r\n",
    "        c1.time=t\n",
    "        q=1\n",
    "    elif r==3:\n",
    "        b=c1.requestBike()\n",
    "        t=rajuRental.rentBikeWeekly(b)\n",
    "        c1.rental=r\n",
    "        c1.time=t\n",
    "        q=1\n",
    "    else:\n",
    "        print('wrong entry! Please enter again')"
   ]
  },
  {
   "cell_type": "code",
   "execution_count": 14,
   "metadata": {},
   "outputs": [
    {
     "name": "stdout",
     "output_type": "stream",
     "text": [
      "Do you want to return your bike! Enter \"Yes\" or \"No\" :- y\n",
      "Your total bill before discount is $180\n",
      "You are eligible for Family rental promotion of 30% discount\n",
      "Thanks for returning your bike. Hope you enjoyed our service!\n",
      "That would be $126.0\n"
     ]
    }
   ],
   "source": [
    "req=input('Do you want to return your bike! Enter \"Yes\" or \"No\" :- ')\n",
    "if req.lower().startswith('y'):\n",
    "    a=c1.returnBike()\n",
    "    rajuRental.returnBike(a)"
   ]
  },
  {
   "cell_type": "code",
   "execution_count": null,
   "metadata": {},
   "outputs": [],
   "source": []
  }
 ],
 "metadata": {
  "kernelspec": {
   "display_name": "Python 3",
   "language": "python",
   "name": "python3"
  },
  "language_info": {
   "codemirror_mode": {
    "name": "ipython",
    "version": 3
   },
   "file_extension": ".py",
   "mimetype": "text/x-python",
   "name": "python",
   "nbconvert_exporter": "python",
   "pygments_lexer": "ipython3",
   "version": "3.8.5"
  }
 },
 "nbformat": 4,
 "nbformat_minor": 4
}
