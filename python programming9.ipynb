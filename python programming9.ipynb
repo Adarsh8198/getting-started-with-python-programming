{
 "cells": [
  {
   "cell_type": "code",
   "execution_count": 3,
   "metadata": {},
   "outputs": [],
   "source": [
    "def name_of_fuction(arguements):\n",
    "    statements\n",
    "    return arguments"
   ]
  },
  {
   "cell_type": "code",
   "execution_count": 5,
   "metadata": {},
   "outputs": [],
   "source": [
    "#calling a function\n",
    "arguments\n",
    "name_of_fuction(arguments)"
   ]
  },
  {
   "cell_type": "code",
   "execution_count": 6,
   "metadata": {},
   "outputs": [
    {
     "name": "stdout",
     "output_type": "stream",
     "text": [
      "hi\n"
     ]
    }
   ],
   "source": [
    "#function with  no arguements\n",
    "def greet():\n",
    "    print('hi')\n",
    "    \n",
    "greet()"
   ]
  },
  {
   "cell_type": "code",
   "execution_count": 7,
   "metadata": {},
   "outputs": [
    {
     "name": "stdout",
     "output_type": "stream",
     "text": [
      "hi\n"
     ]
    }
   ],
   "source": [
    "#function with  arguements\n",
    "def greet(a):\n",
    "    print(a)\n",
    "    \n",
    "greet('hi')"
   ]
  },
  {
   "cell_type": "code",
   "execution_count": 11,
   "metadata": {},
   "outputs": [
    {
     "name": "stdout",
     "output_type": "stream",
     "text": [
      "hi\n"
     ]
    }
   ],
   "source": [
    "#function with  return\n",
    "def greet():\n",
    "    return 'hi'\n",
    "    \n",
    "a=greet()\n",
    "print(a)"
   ]
  },
  {
   "cell_type": "code",
   "execution_count": 10,
   "metadata": {},
   "outputs": [
    {
     "name": "stdout",
     "output_type": "stream",
     "text": [
      "hi\n",
      "hello\n"
     ]
    }
   ],
   "source": [
    "#function with aguements and return something\n",
    "def greet(a):\n",
    "    print(a)\n",
    "    return 'hello'\n",
    "\n",
    "\n",
    "b=greet('hi')\n",
    "print(b)"
   ]
  },
  {
   "cell_type": "code",
   "execution_count": 19,
   "metadata": {},
   "outputs": [
    {
     "name": "stdout",
     "output_type": "stream",
     "text": [
      "enter a no.5\n",
      "the factorial is 120\n"
     ]
    }
   ],
   "source": [
    "def factorial(a):\n",
    "    b=1\n",
    "    for i in range(1,a+1):\n",
    "        b*=i\n",
    "    return b\n",
    "\n",
    "a=int(input('enter a no.'))\n",
    "b=factorial(a)\n",
    "print('the factorial is',b)"
   ]
  },
  {
   "cell_type": "code",
   "execution_count": 22,
   "metadata": {},
   "outputs": [
    {
     "name": "stdout",
     "output_type": "stream",
     "text": [
      "enter 1st no.4\n",
      "enter 2nd no.5\n",
      "81\n"
     ]
    }
   ],
   "source": [
    "def sq(a,b):\n",
    "    return (a+b)**2\n",
    "\n",
    "a=int(input('enter 1st no.'))\n",
    "b=int(input('enter 2nd no.'))\n",
    "ans=sq(a,b)\n",
    "print(ans)"
   ]
  },
  {
   "cell_type": "code",
   "execution_count": 35,
   "metadata": {},
   "outputs": [
    {
     "name": "stdout",
     "output_type": "stream",
     "text": [
      "2 is a prime number\n"
     ]
    }
   ],
   "source": [
    "def prime(num):\n",
    "    n=0\n",
    "    if num > 1:\n",
    "        for i in range(2,num):\n",
    "            if (num % i) == 0:\n",
    "                print(num,\"is not a prime number\")\n",
    "                n=1\n",
    "        if n==0:\n",
    "            print(num,\"is a prime number\")\n",
    "    else:\n",
    "        print(num,\"is a not prime number\")\n",
    "        \n",
    "prime(2)\n",
    "    "
   ]
  },
  {
   "cell_type": "code",
   "execution_count": 11,
   "metadata": {},
   "outputs": [
    {
     "data": {
      "text/plain": [
       "[2, 3]"
      ]
     },
     "execution_count": 11,
     "metadata": {},
     "output_type": "execute_result"
    }
   ],
   "source": [
    "def prime(num):\n",
    "    n=0\n",
    "    if num > 1:\n",
    "        for i in range(2,num):\n",
    "            if (num % i) == 0:\n",
    "                n=1           \n",
    "        if n==0:\n",
    "            return num\n",
    "        \n",
    "t=[2,6,77,33,87,95,3,8,21]\n",
    "list(filter(prime,t))"
   ]
  },
  {
   "cell_type": "code",
   "execution_count": 20,
   "metadata": {},
   "outputs": [
    {
     "data": {
      "text/plain": [
       "['hi', 'python', 'good']"
      ]
     },
     "execution_count": 20,
     "metadata": {},
     "output_type": "execute_result"
    }
   ],
   "source": [
    "def evword(w):\n",
    "    if len(w)%2==0:\n",
    "        return 1\n",
    "    \n",
    "words=['hi','hello','python','good','mom','god']\n",
    "list(filter(evword,words))"
   ]
  },
  {
   "cell_type": "code",
   "execution_count": 23,
   "metadata": {},
   "outputs": [
    {
     "name": "stdout",
     "output_type": "stream",
     "text": [
      "[2, 6, 77, 33, 87, 95, 3, 8, 21]\n"
     ]
    },
    {
     "data": {
      "text/plain": [
       "['even', 'even', 'odd', 'odd', 'odd', 'odd', 'odd', 'even', 'odd']"
      ]
     },
     "execution_count": 23,
     "metadata": {},
     "output_type": "execute_result"
    }
   ],
   "source": [
    "def evenodd(n):\n",
    "    if n%2==0:\n",
    "        return 'even'\n",
    "    else:\n",
    "        return 'odd'\n",
    "    \n",
    "t=[2,6,77,33,87,95,3,8,21]\n",
    "print(t)\n",
    "list(map(evenodd,t))\n"
   ]
  },
  {
   "cell_type": "code",
   "execution_count": 36,
   "metadata": {},
   "outputs": [
    {
     "data": {
      "text/plain": [
       "{'hi': 3,\n",
       " 'hello': 3,\n",
       " 'how': 1,\n",
       " 'are': 2,\n",
       " 'you': 2,\n",
       " 'what': 1,\n",
       " 'doing': 1,\n",
       " 'nothing': 1}"
      ]
     },
     "execution_count": 36,
     "metadata": {},
     "output_type": "execute_result"
    }
   ],
   "source": [
    "st='hi hello how are you hi hello what are you doing hi hello nothing'\n",
    "x=st.split()\n",
    "d={}\n",
    "for i in x:\n",
    "    if i in d:\n",
    "        d[i]+=1\n",
    "    else:\n",
    "        d[i]=1\n",
    "d        "
   ]
  },
  {
   "cell_type": "code",
   "execution_count": 12,
   "metadata": {},
   "outputs": [
    {
     "name": "stdout",
     "output_type": "stream",
     "text": [
      "enter whether you want to multiply or sum of no.MUL\n"
     ]
    },
    {
     "data": {
      "text/plain": [
       "1480321920"
      ]
     },
     "execution_count": 12,
     "metadata": {},
     "output_type": "execute_result"
    }
   ],
   "source": [
    "dt={'ram':68,'mohan':55,'adarsh':84,'geeta':62,'rahul':76}\n",
    "def pro(d,txt):\n",
    "    s=0\n",
    "    if txt.lower().startswith(\"s\"):\n",
    "        for i in d:\n",
    "            s+=d[i]\n",
    "    elif txt.lower().startswith(\"m\"):\n",
    "        s=1\n",
    "        for i in d:\n",
    "            s*=d[i]\n",
    "    return s\n",
    "\n",
    "a=input('enter whether you want to multiply or sum of no. :')  \n",
    "pro(dt,a)"
   ]
  },
  {
   "cell_type": "code",
   "execution_count": 20,
   "metadata": {},
   "outputs": [
    {
     "name": "stdout",
     "output_type": "stream",
     "text": [
      "value of a is  20\n",
      "value of a is  30\n"
     ]
    }
   ],
   "source": [
    "def val(a,b,c):\n",
    "    return a\n",
    "\n",
    "\n",
    "print('value of a is ',val(a=20,b=30,c=50))\n",
    "print('value of a is ',val(b=20,a=30,c=50))"
   ]
  },
  {
   "cell_type": "code",
   "execution_count": 21,
   "metadata": {},
   "outputs": [
    {
     "name": "stdout",
     "output_type": "stream",
     "text": [
      "value of a is  20\n"
     ]
    }
   ],
   "source": [
    "def val(a,b,c):\n",
    "    return a\n",
    "\n",
    "print('value of a is ',val(20,30,50))"
   ]
  },
  {
   "cell_type": "code",
   "execution_count": 23,
   "metadata": {},
   "outputs": [
    {
     "name": "stdout",
     "output_type": "stream",
     "text": [
      "value of a is  20\n"
     ]
    }
   ],
   "source": [
    "#print('value of a is ',val(a=20,30,50)) (not possible)\n",
    "\n",
    "print('value of a is ',val(20,30,c=50)) #possible"
   ]
  },
  {
   "cell_type": "code",
   "execution_count": 28,
   "metadata": {},
   "outputs": [
    {
     "name": "stdout",
     "output_type": "stream",
     "text": [
      "40\n",
      "60\n",
      "100\n"
     ]
    }
   ],
   "source": [
    "def val(*args):\n",
    "    sum=0\n",
    "    for n in args:\n",
    "        sum = sum + n\n",
    "    return sum\n",
    "\n",
    "print(val(10,30))\n",
    "print(val(10,30,20))\n",
    "print(val(10,30,20,40))"
   ]
  },
  {
   "cell_type": "code",
   "execution_count": 44,
   "metadata": {},
   "outputs": [
    {
     "name": "stdout",
     "output_type": "stream",
     "text": [
      "{'fruit': 'mango'}\n"
     ]
    }
   ],
   "source": [
    "def val(**kwargs):\n",
    "        print(kwargs)\n",
    "        \n",
    "val(fruit='mango')"
   ]
  },
  {
   "cell_type": "code",
   "execution_count": null,
   "metadata": {},
   "outputs": [],
   "source": []
  }
 ],
 "metadata": {
  "kernelspec": {
   "display_name": "Python 3",
   "language": "python",
   "name": "python3"
  },
  "language_info": {
   "codemirror_mode": {
    "name": "ipython",
    "version": 3
   },
   "file_extension": ".py",
   "mimetype": "text/x-python",
   "name": "python",
   "nbconvert_exporter": "python",
   "pygments_lexer": "ipython3",
   "version": "3.8.5"
  }
 },
 "nbformat": 4,
 "nbformat_minor": 4
}
